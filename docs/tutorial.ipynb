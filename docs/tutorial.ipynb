{
 "cells": [
  {
   "cell_type": "markdown",
   "id": "f0dd51cc",
   "metadata": {
    "vscode": {
     "languageId": "plaintext"
    }
   },
   "source": [
    "# Tutorial\n",
    "\n",
    "Welcome to the Phylo2Vec demo! Here, we will quickly visit the main functions of [phylo2vec](https://phylo2vec.readthedocs.io), including:\n",
    "* A primer on computational phylogenetics, running popular software such as [rapidNJ](https://github.com/somme89/rapidNJ) and [IQ-TREE](https://github.com/iqtree/iqtree3) for inferring trees from molecular sequences\n",
    "* Visualising trees using [ete3](https://etetoolkit.org/) or [Biopython](https://biopython.org/)\n",
    "* Using basic phylo2vec functions: sam trees, converting trees to the phylo2vec format, performing operations on trees\n",
    "* Using modern tools and infrastructure present in the phylo2vec package: [pixi](https://pixi.sh/), [pytest](https://docs.pytest.org/en/stable/), and [pytest-benchmark](google.com/search?q=pytest+benchmark&udm=14)"
   ]
  },
  {
   "cell_type": "code",
   "execution_count": 1,
   "id": "e40fba10",
   "metadata": {},
   "outputs": [],
   "source": [
    "# Constants\n",
    "\n",
    "data_dir = \"../data\"\n",
    "tree_dir = \"../trees\""
   ]
  },
  {
   "cell_type": "markdown",
   "id": "dea2cdef",
   "metadata": {},
   "source": [
    "## What is phylo2vec?\n",
    "\n",
    "phylo2vec is a library for encoding and manipulating binary (phylogenetic) trees under a compact vector format. In its current version, the library is useful for:\n",
    "* Sampling random trees\n",
    "* Fast comparison of trees\n",
    "* Compressing trees or files with many trees\n",
    "\n",
    "The current version of Phylo2Vec (1.x) relies on a core written in [Rust](https://www.rust-lang.org), with bindings to Python and R. That means that you do not need to know Rust to use the package, Python or R are sufficient! To become more familiar with Rust, we recommend this [interactive book](https://rust-book.cs.brown.edu/experiment-intro.html).\n",
    "\n",
    "Before we get started, we will quickly introduce [pixi](https://pixi.sh/), the package manger we use to orchestrate dependencies in this workshop (and in the phylo2vec package)."
   ]
  },
  {
   "cell_type": "markdown",
   "id": "e87aa449",
   "metadata": {},
   "source": [
    "## A minimal pixi cheatsheet\n",
    "\n",
    "Pixi is a past package manager built on top of the **conda** ecosystem. By default, it resolves packages from **conda-forge**, a community-driven channel with the most complete, up-to-date collection of scientific and data packages.\n",
    "\n",
    "For the workshop (19.09.2025), installations are done for you via GitHub codespaces! However, if you want to run this notebook independently, you may either:\n",
    "* Install the dependencies separately (not recommended)\n",
    "* Use pixi to manage everything in a reproducible and isolated way\n",
    "\n",
    "We will here briefly go through pixi basics: installing it, creating a pixi.toml, managing dependencies, and running scripts"
   ]
  },
  {
   "cell_type": "markdown",
   "id": "ce7fec30",
   "metadata": {},
   "source": [
    "### Installing pixi\n",
    "```bash\n",
    "curl -fsSL https://pixi.sh/install.sh | bash\n",
    "```"
   ]
  },
  {
   "cell_type": "markdown",
   "id": "5bf06014",
   "metadata": {},
   "source": [
    "### Creating a new project\n",
    "```bash\n",
    "pixi init\n",
    "````"
   ]
  },
  {
   "cell_type": "markdown",
   "id": "c18d6c34",
   "metadata": {},
   "source": [
    "### Adding dependencies\n",
    "```bash\n",
    "pixi add numpy pandas matplotlib\n",
    "pixi remove matplotlib\n",
    "pixi add bioconda::rapidnj # Channel specification for conda packages\n",
    "pixi add r-ggplot2 # Adding an R package\n",
    "```"
   ]
  },
  {
   "cell_type": "markdown",
   "id": "f5091ad0",
   "metadata": {},
   "source": [
    "### Setting up a pixi.toml for a project\n",
    "Here is a minimal file to create a custom project\n",
    "\n",
    "```toml\n",
    "[project]\n",
    "name = \"pixi-workshop\"\n",
    "version = \"0.1.0\"\n",
    "description = \"Minimal pixi project for the 19.09.2025 workshop\"\n",
    "channels = [\"conda-forge\", \"bioconda\", \"r\"]\n",
    "\n",
    "[dependencies]\n",
    "python = \">=3.11,<3.13\"\n",
    "numpy = \"*\"\n",
    "pandas = \"*\"\n",
    "bioconda::rapidnj = \"*\"\n",
    "r-ggplot2 = \"*\"\n",
    "```"
   ]
  },
  {
   "cell_type": "markdown",
   "id": "dff9b09a",
   "metadata": {},
   "source": [
    "### Running scripts\n",
    "Define scripts in your pixi.toml, e.g.:\n",
    "```toml\n",
    "[scripts]\n",
    "start = \"python main.py\"\n",
    "notebook = \"jupyter lab\"\n",
    "```\n",
    "\n",
    "and run them with:\n",
    "```bash\n",
    "pixi run start\n",
    "pixi run notebook\n",
    "```\n",
    "\n",
    "You may also run executables via `pixi run`, e.g., `pixi run rapidnj`"
   ]
  },
  {
   "cell_type": "markdown",
   "id": "57572511",
   "metadata": {},
   "source": [
    "### Activating an environment\n",
    "If you want a shell with all dependencies available:\n",
    "```bash\n",
    "pixi shell\n",
    "```"
   ]
  },
  {
   "cell_type": "markdown",
   "id": "8b72185a",
   "metadata": {},
   "source": [
    "## A short primer on phylogenetics"
   ]
  },
  {
   "cell_type": "markdown",
   "id": "b94c074a",
   "metadata": {},
   "source": [
    "The overarching goal of phylogenetics is to study the evolutionary history between different entities (e.g., animal species, viral strains, languages...) using observable data. \n",
    "\n",
    "The main artefact of phylogenetics is a *phylogenetic tree*, a diagram which describe the evolutionary relationships between the entities of interest. A phylogenetic tree shares many similarities with the notion of trees defined in graph theory/computer science:\n",
    "* It connects **vertices** (or **nodes**) with **edges** (or **branches**). \n",
    "* It is acyclic\n",
    "* Any two nodes in a tree are connected by a unique path.\n",
    "* Terminal nodes, or **leaves** correspond to observable species (with observable data)\n",
    "* Internal nodes, or **ancestral nodes** correspond to unobserved species. They are inferred using *inference algorithms*\n",
    "* **Edges**, or **branches** connect nodes and may have variable lengths (**branch lengths**). In phylogenetics, branch lengths may represent time, or the amount of evolution between a parent node and its child.\n",
    "\n",
    "In the tree below, different species of coronaviruses are mapped, highlighting the different *genera* (*Sarbecovirus*, *Hibecovirus*, *Embecovirus*, etc.). Tree tips correspond to different viral strains, and internal nodes correspond to **unobserved** ancestors, inferred from the data at hand. \n",
    "\n",
    "<img src=\"https://media.springernature.com/full/springer-static/image/art%3A10.1038%2Fs41579-020-00459-7/MediaObjects/41579_2020_459_Fig2_HTML.png\" alt=\"coronavirus_tree\" width=\"400\"/>\n",
    "\n",
    "Source: https://www.nature.com/articles/s41579-020-00459-7"
   ]
  },
  {
   "cell_type": "markdown",
   "id": "0adc5cfc",
   "metadata": {},
   "source": [
    "Most modern phylogenetic analyses rely on molecular data, as it provides a precise and objective measure of evolutionary relationships. Thus phylogeneticists compare DNA, RNA, or protein sequences across entities (or taxa, in biology) to infer common ancestry and divergence times.\n",
    "\n",
    "A simple genetic analysis requires at least three steps:\n",
    "1. Collecting sequences\n",
    "2. Aligning sequences\n",
    "3. Inferring a phylogenetic tree\n",
    "\n",
    "Sequence alignment is necessary to compare homologous positions in sequences as genes, and genomes more generally, vary in length. \n",
    "\n",
    "* Within a gene, some entities might present length-altering mutations such as insertions or deletions, or other structural changes. \n",
    "* Across genomes, different organisms may not have the same set of genes, making alignment essential for comparing homologous regions.\n",
    "\n",
    "For the purpose of this tutorial, we will start with pre-aligned sequences. If interested, see chapter 3 of the book <https://decodinggenomes.org>, available for free online. Tools include [MAFFT](https://mafft.cbrc.jp/alignment/software/), [Clustal Omega](https://www.ebi.ac.uk/jdispatcher/msa/clustalo?stype=protein), [FAMSA](https://github.com/refresh-bio/FAMSA).\n",
    "\n",
    "Phylogenetic inference is the task of inferring plausible phylogenetic trees from a molecular sequence alignment (MSA). Several approaches exist:\n",
    "* The simplest is to use distance-based methods, such as **neighbor-joining**. \n",
    "    * Example tool: [rapidNJ](https://github.com/somme89/rapidNJ)\n",
    "* A state-of-the-art method is **maximum likelihood**, which evaluates how well different trees explain the observed data under a chosen model of sequence evolution. \n",
    "    * Example tools: [IQ-TREE](https://github.com/iqtree/iqtree3), [RAxML-NG](https://github.com/amkozlov/raxml-ng)\n",
    "* **Bayesian inference** goes further by estimating the probability distribution of trees, incorporating prior information and quantifying uncertainty.     \n",
    "    * Example tool: [BEAST](https://github.com/beast-dev/beast-mcmc)."
   ]
  },
  {
   "cell_type": "markdown",
   "id": "615d8c78",
   "metadata": {},
   "source": [
    "### Processing genetic sequences in Python\n",
    "\n",
    "A useful library for manipulating genetic sequence sets in Python is [Biopython](https://biopython.org/). We will quickly visualise the first dataset of the workshop, which comprises mitochondrial DNA from (mostly) primates. The sequence is in the FASTA format, whose basic structure looks like this:\n",
    "```text\n",
    ">species1\n",
    "atcgatcgatcg\n",
    ">species2\n",
    "tacgtacgtacg\n",
    ">spescies3\n",
    "atgcatggatgg\n",
    "```\n",
    "\n",
    "(nucleotides or amino acids may also be uppercase)"
   ]
  },
  {
   "cell_type": "code",
   "execution_count": 2,
   "id": "1b3fde70",
   "metadata": {},
   "outputs": [
    {
     "data": {
      "text/plain": [
       "{'n_sequences': 14,\n",
       " 'alignment_length': 232,\n",
       " 'percent_conserved_sites': 5.172413793103448,\n",
       " 'percent_gap': 0.03078817733990148,\n",
       " 'nucleotide_counts': {'a': 1217, 'c': 1304, 't': 599, 'g': 127, '-': 1}}"
      ]
     },
     "execution_count": 2,
     "metadata": {},
     "output_type": "execute_result"
    }
   ],
   "source": [
    "from Bio import AlignIO, SeqIO\n",
    "from collections import Counter\n",
    "\n",
    "import pandas as pd\n",
    "\n",
    "\n",
    "def summary(file, format=\"fasta\"):\n",
    "    aln = AlignIO.read(file, format)\n",
    "\n",
    "    n_seq = len(aln)\n",
    "    aln_length = aln.get_alignment_length()\n",
    "\n",
    "    # Count gaps per column\n",
    "    gap_fractions = []\n",
    "    all_counts = []\n",
    "    conserved_cols = 0\n",
    "    for i in range(aln_length):\n",
    "        col = aln[:, i]\n",
    "        counts = Counter(col)\n",
    "        _, count = counts.most_common(1)[0]\n",
    "        if count == n_seq:  # fully conserved\n",
    "            conserved_cols += 1\n",
    "        gap_fractions.append(counts.get(\"-\", 0))\n",
    "        all_counts.append(counts)\n",
    "\n",
    "    nucleotide_counts = pd.DataFrame(all_counts).fillna(0).astype(int).sum(0).to_dict()\n",
    "\n",
    "    return {\n",
    "        \"n_sequences\": n_seq,\n",
    "        \"alignment_length\": aln_length,\n",
    "        \"percent_conserved_sites\": conserved_cols / aln_length * 100,\n",
    "        \"percent_gap\": sum(gap_fractions) / (n_seq * aln_length) * 100,\n",
    "        \"nucleotide_counts\": nucleotide_counts,\n",
    "    }\n",
    "\n",
    "\n",
    "summary(\"../data/primates.fa\")"
   ]
  },
  {
   "cell_type": "markdown",
   "id": "cfa6b729",
   "metadata": {},
   "source": [
    "### Neighbor-joining with rapidNJ\n",
    "\n",
    "Under the neighbour joining framework, we build a tree by iteratively joining pairs of taxa with the smallest evolutionary distance. \n",
    "\n",
    "[rapidNJ](https://github.com/somme89/rapidNJ) is an example tool for very fast neighbour joining. Using `pixi` we run `pixi run rapidnj` to run the tool:"
   ]
  },
  {
   "cell_type": "code",
   "execution_count": 4,
   "id": "cb3b72c8",
   "metadata": {},
   "outputs": [
    {
     "name": "stdout",
     "output_type": "stream",
     "text": [
      "\u001b[2KRapid neighbour-joining. An implementation of the canonical neighbour-joining method which utilize a fast search heuristic to reduce the running time. RapidNJ can be used to reconstruct large trees using a very small amount of memory by utilizing the HDD as storage.\n",
      "\n",
      "USAGE: rapidnj INPUT [OPTIONS]\n",
      "The INPUT can be a distance matrix in phylip (.phylip) format or a multiple alignment in stockholm (.sth) or phylip format (.phylip).\n",
      "OPTIONS:\n",
      "  -h, --help                display this help message and exit.\n",
      "  -v, --verbose             turn on verbose output.\n",
      "  -i, --input-format ARG    Specifies the type of input. pd = distance\n",
      "                            matrix in phylip format, sth = multiple alignment in (single line) stockholm format.\n",
      "                            fa = multiple alignment in (single line) FASTA format.\n",
      "  -o, --output-format ARG   Specifies the type of output. t = phylogenetic tree in newick format\n",
      "                            (default), m = distance matrix.\n",
      "  -a, --evolution-model ARG Specifies which sequence evolution method to use when computing\n",
      "                            distance estimates from multiple alignments. jc = juke cantor,\n",
      "                            kim = Kimura's distance (default).\n",
      "  -m, --memory-size         The maximum amount of memory which rapidNJ is allowed to use (in MB).\n",
      "                            Default is 90% of all available memory.\n",
      "  -k, --rapidnj-mem ARG     Force RapidNJ to use a memory efficient version of rapidNJ. The 'arg'\n",
      "                            specifies the percentage of a sorted distance matrix which should be\n",
      "                            stored in memory (arg=10 means 10%).\n",
      "  -d, --rapidnj-disk ARG    Force RapidNJ to use HDD caching where 'arg' is the directory used to\n",
      "                            store cached files.\n",
      "  -c, --cores ARG           Number of cores to use for computating distance matrices from multiple\n",
      "                            alignments. All available cores are used by default.\n",
      "  -b  --bootstrap ARG       Compute bootstrap values using ARG samples. The output tree will be\n",
      "                            annotated with the bootstrap values.\n",
      "  -t, --alignment-type ARG  Force the input alignment to be treated as: p = protein alignment, \n",
      "                            d = DNA alignment.\n",
      "  -n  --no-negative-length  Adjust for negative branch lengths.\n",
      "  -x  --output-file ARG     Output the result to this file instead of stdout.\n"
     ]
    }
   ],
   "source": [
    "!pixi run rapidnj -h"
   ]
  },
  {
   "cell_type": "markdown",
   "id": "ab2a7459",
   "metadata": {},
   "source": [
    "To get a tree (the default option), we can run:"
   ]
  },
  {
   "cell_type": "code",
   "execution_count": 5,
   "id": "3fc3d7cd",
   "metadata": {},
   "outputs": [
    {
     "name": "stdout",
     "output_type": "stream",
     "text": [
      "\u001b[2KRapidNJ v. 2.2.2ating environment                                                        \n",
      "64 bit system detected.\n",
      "Using 128 core(s) for distance estimation\n",
      "Input format determined as FASTA\n",
      "Reading data...\n",
      "Input type determined as DNA.\n",
      "Number of sequences: 14\n",
      "Sequence length: 232\n",
      "Matrix size: 14\n",
      "257537 MB of memory is available\n",
      "Using RapidNJ \n",
      "Using 0.000747681 MB for distance matrix\n",
      "Using 0.00149536 MB for sortedMatrix\n",
      "Total memory consumption is 0.00224304 MB\n",
      "Computing distance matrix... \n",
      "Fastdist is enabled\n",
      "Using Kimura algorithm to calculate distances\n",
      "Computing phylogetic tree... \n",
      "100.00% \n"
     ]
    }
   ],
   "source": [
    "primate_rapidnj_file = f\"{tree_dir}/primates.rapidnj\"\n",
    "!pixi run rapidnj -v $data_dir/primates.fa -x $primate_rapidnj_file"
   ]
  },
  {
   "cell_type": "markdown",
   "id": "ed6bc0cd",
   "metadata": {},
   "source": [
    "We get here an output in the so-called [Newick](https://en.wikipedia.org/wiki/Newick_format) format.\n",
    "\n",
    "This format represents taxa using nested parentheses, for example: ((Taxon1:BranchLength1, Taxon2:BranchLength2):BranchLength3);.  Subtrees are enclosed recursively in parentheses, and every tree ends with a semicolon (;)."
   ]
  },
  {
   "cell_type": "code",
   "execution_count": 6,
   "id": "6186fa53",
   "metadata": {},
   "outputs": [
    {
     "name": "stdout",
     "output_type": "stream",
     "text": [
      "(('Tarsier':0.42099,'Lemur':0.36721):0.101,((((((('Human':0.11568,'Chimp':0.17827):0.088192,'Gorilla':0.11228):0.066043,'Orang':0.20108):0.068184,'Gibbon':0.30113):0.045591,((('RhesusMac':0.066186,'JpnMacaq':0.038473):0.032833,'CrabEMac':0.17245):0.11606,'BarbMacaq':0.1742):0.14558):0.08527,'SquirMonk':0.38666):0.06142,'Mouse':0.5341):0.017041,'Bovine':0.34356);\n"
     ]
    }
   ],
   "source": [
    "!cat $tree_dir/primates.rapidnj"
   ]
  },
  {
   "cell_type": "markdown",
   "id": "eadd82f3",
   "metadata": {},
   "source": [
    "Although not immediately easy to read, we can observe that:\n",
    "* &#x2705; Great apes (Humans, Chimpanzees, Gorillas, Orangutans) form a separate clade, as expected. \n",
    "* Macaques branch off later (Rhesus Macaque, Japanese Macaque, Crab-eating Macaque).\n",
    "* &#x274C; Bovine appears as the most basal lineage relative to this primate set, which does not reflect the accepted mammalian phylogeny\n",
    "* &#x274C; The placement of the Squirrel Monkey deep within the tree is also unusual."
   ]
  },
  {
   "cell_type": "markdown",
   "id": "1c8a2fc9",
   "metadata": {},
   "source": [
    "### Maximum likelihood with IQ-TREE\n",
    "\n",
    "Under the maximum likelihood framework, we build a tree by finding the topology and branch lengths that maximize the probability of observing the given sequence alignment under a specified model of sequence evolution. The optimal tree is identified by exploring possible tree topologies using many [tree rearrangements](https://www.mun.ca/biology/scarr/Tree_Pruning_methods.html) and selecting the one with the highest likelihood score.\n",
    "\n",
    "[IQ-TREE](https://github.com/iqtree/iqtree3) is an example tool for fast maximum likelihood estimation. For a detailed tutorial on IQ-TREE see [this tutorial](https://iqtree.github.io/workshop/molevol2023). Using `pixi` we run `pixi run iqtree` to run the tool:"
   ]
  },
  {
   "cell_type": "code",
   "execution_count": 5,
   "id": "844d5f4b",
   "metadata": {},
   "outputs": [
    {
     "name": "stdout",
     "output_type": "stream",
     "text": [
      "\u001b[2KIQ-TREE version 3.0.1 for Linux x86 64-bit built Jul  9 2025                             \n",
      "Developed by Bui Quang Minh, Thomas Wong, Nhan Ly-Trong, Huaiyan Ren\n",
      "Contributed by Lam-Tung Nguyen, Dominik Schrempf, Chris Bielow,\n",
      "Olga Chernomor, Michael Woodhams, Diep Thi Hoang, Heiko Schmidt\n",
      "\n",
      "Usage: iqtree [-s ALIGNMENT] [-p PARTITION] [-m MODEL] [-t TREE] ...\n",
      "\n",
      "GENERAL OPTIONS:\n",
      "  -h, --help           Print (more) help usages\n",
      "  -s FILE[,...,FILE]   PHYLIP/FASTA/NEXUS/CLUSTAL/MSF alignment file(s)\n",
      "  -s DIR               Directory of alignment files\n",
      "  --seqtype STRING     BIN, DNA, AA, NT2AA, CODON, MORPH (default: auto-detect)\n",
      "  -t FILE|PARS|RAND    Starting tree (default: 99 parsimony and BIONJ)\n",
      "  -o TAX[,...,TAX]     Outgroup taxon (list) for writing .treefile\n",
      "  --prefix STRING      Prefix for all output files (default: aln/partition)\n",
      "  --seed NUM           Random seed number, normally used for debugging purpose\n",
      "  --safe               Safe likelihood kernel to avoid numerical underflow\n",
      "  --mem NUM[G|M|%]     Maximal RAM usage in GB | MB | %\n",
      "  --runs NUM           Number of indepedent runs (default: 1)\n",
      "  -v, --verbose        Verbose mode, printing more messages to screen\n",
      "  -V, --version        Display version number\n",
      "  --quiet              Quiet mode, suppress printing to screen (stdout)\n",
      "  -fconst f1,...,fN    Add constant patterns into alignment (N=no. states)\n",
      "  --epsilon NUM        Likelihood epsilon for parameter estimate (default 0.01)\n",
      "  -T NUM|AUTO          No. cores/threads or AUTO-detect (default: 1)\n",
      "  --threads-max NUM    Max number of threads for -T AUTO (default: all cores)\n",
      "\n",
      "CHECKPOINT:\n",
      "  --redo               Redo both ModelFinder and tree search\n",
      "  --redo-tree          Restore ModelFinder and only redo tree search\n",
      "  --undo               Revoke finished run, used when changing some options\n",
      "  --cptime NUM         Minimum checkpoint interval (default: 60 sec and adapt)\n",
      "\n",
      "PARTITION MODEL:\n",
      "  -p FILE|DIR          NEXUS/RAxML partition file or directory with alignments\n",
      "                       Edge-linked proportional partition model\n",
      "  -q FILE|DIR          Like -p but edge-linked equal partition model \n",
      "  -Q FILE|DIR          Like -p but edge-unlinked partition model\n",
      "  -S FILE|DIR          Like -p but separate tree inference\n",
      "  --subsample NUM      Randomly sub-sample partitions (negative for complement)\n",
      "  --subsample-seed NUM Random number seed for --subsample\n",
      "\n",
      "LIKELIHOOD/QUARTET MAPPING:\n",
      "  --lmap NUM           Number of quartets for likelihood mapping analysis\n",
      "  --lmclust FILE       NEXUS file containing clusters for likelihood mapping\n",
      "  --quartetlh          Print quartet log-likelihoods to .quartetlh file\n",
      "\n",
      "TREE SEARCH ALGORITHM:\n",
      "  --ninit NUM          Number of initial parsimony trees (default: 100)\n",
      "  --ntop NUM           Number of top initial trees (default: 20)\n"
     ]
    }
   ],
   "source": [
    "!pixi run iqtree -h | head -n 50"
   ]
  },
  {
   "cell_type": "code",
   "execution_count": 6,
   "id": "f2f03fc3",
   "metadata": {},
   "outputs": [
    {
     "name": "stdout",
     "output_type": "stream",
     "text": [
      "\u001b[2KIQ-TREE version 3.0.1 for Linux x86 64-bit built Jul  9 2025                             \n",
      "Developed by Bui Quang Minh, Thomas Wong, Nhan Ly-Trong, Huaiyan Ren\n",
      "Contributed by Lam-Tung Nguyen, Dominik Schrempf, Chris Bielow,\n",
      "Olga Chernomor, Michael Woodhams, Diep Thi Hoang, Heiko Schmidt\n",
      "\n",
      "Host:    didelx02 (AVX2, FMA3, 251 GB RAM)\n",
      "Command: /home/nclow23/src/phylo2vec/workshop/.pixi/envs/default/bin/iqtree -s ../data/primates.fa -m GTR+G --prefix ../trees/primates --redo\n",
      "Seed:    693600 (Using SPRNG - Scalable Parallel Random Number Generator)\n",
      "Time:    Thu Sep 18 16:42:20 2025\n",
      "Kernel:  AVX+FMA - 1 threads (128 CPU cores detected)\n",
      "\n",
      "HINT: Use -nt option to specify number of threads because your CPU has 128 cores!\n",
      "HINT: -nt AUTO will automatically determine the best number of threads to use.\n",
      "\n",
      "Reading alignment file ../data/primates.fa ... Fasta format detected\n",
      "Reading fasta file: done in 7.88001e-05 secs\n",
      "Alignment most likely contains DNA/RNA sequences\n",
      "Constructing alignment: done in 0.000204699 secs\n",
      "Alignment has 14 sequences with 232 columns, 217 distinct patterns\n",
      "191 parsimony-informative, 29 singleton sites, 12 constant sites\n",
      "           Gap/Ambiguity  Composition  p-value\n",
      "Analyzing sequences: done in 9.19681e-06 secs\n",
      "   1  Mouse        0.00%    failed      3.42%\n",
      "   2  Bovine       0.00%    passed     10.27%\n",
      "   3  Lemur        0.00%    passed     17.69%\n",
      "   4  Tarsier      0.00%    failed      3.53%\n",
      "   5  SquirMonk    0.43%    passed      8.42%\n",
      "   6  JpnMacaq     0.00%    passed     85.47%\n",
      "   7  RhesusMac    0.00%    passed     96.42%\n",
      "   8  CrabEMac     0.00%    passed     46.18%\n",
      "   9  BarbMacaq    0.00%    passed     75.38%\n",
      "  10  Gibbon       0.00%    passed      6.16%\n",
      "  11  Orang        0.00%    failed      0.83%\n",
      "  12  Gorilla      0.00%    passed     20.22%\n",
      "  13  Chimp        0.00%    passed     38.37%\n",
      "  14  Human        0.00%    passed     17.55%\n",
      "****  TOTAL        0.03%  3 sequences failed composition chi2 test (p-value<5%; df=3)\n",
      "Checking for duplicate sequences: done in 2.98675e-05 secs\n",
      "\n",
      "Create initial parsimony tree by phylogenetic likelihood library (PLL)... 0.000 seconds\n",
      "\n",
      "NOTE: 0 MB RAM (0 GB) is required!\n",
      "Estimate model parameters (epsilon = 0.100)\n",
      "1. Initial log-likelihood: -3001.337\n",
      "2. Current log-likelihood: -2659.176\n",
      "3. Current log-likelihood: -2632.929\n",
      "4. Current log-likelihood: -2626.155\n",
      "5. Current log-likelihood: -2623.111\n",
      "6. Current log-likelihood: -2621.219\n",
      "7. Current log-likelihood: -2619.644\n",
      "8. Current log-likelihood: -2618.263\n",
      "9. Current log-likelihood: -2617.070\n",
      "10. Current log-likelihood: -2616.045\n",
      "11. Current log-likelihood: -2615.173\n",
      "12. Current log-likelihood: -2614.445\n",
      "13. Current log-likelihood: -2613.812\n",
      "14. Current log-likelihood: -2613.296\n",
      "15. Current log-likelihood: -2612.851\n",
      "16. Current log-likelihood: -2612.498\n",
      "17. Current log-likelihood: -2612.180\n",
      "18. Current log-likelihood: -2611.917\n",
      "19. Current log-likelihood: -2611.687\n",
      "20. Current log-likelihood: -2611.505\n",
      "21. Current log-likelihood: -2611.354\n",
      "22. Current log-likelihood: -2611.228\n",
      "23. Current log-likelihood: -2611.114\n",
      "Optimal log-likelihood: -2610.990\n",
      "Rate parameters:  A-C: 0.12392  A-G: 8.40821  A-T: 0.04733  C-G: 0.00010  C-T: 3.90865  G-T: 1.00000\n",
      "Warning! Some parameters hit the boundaries\n",
      "Base frequencies:  A: 0.375  C: 0.402  G: 0.039  T: 0.184\n",
      "Gamma shape alpha: 2.813\n",
      "Parameters optimization took 23 rounds (0.100 sec)\n",
      "Wrote distance file to... \n",
      "Computing ML distances based on estimated model parameters...\n",
      "Calculating distance matrix: done in 0.00100836 secs using 99.96% CPU\n",
      "Computing ML distances took 0.001051 sec (of wall-clock time) 0.001054 sec (of CPU time)\n",
      "WARNING: Some pairwise ML distances are too long (saturated)\n",
      "Setting up auxiliary I and S matrices: done in 6.37015e-05 secs using 98.9% CPU\n",
      "Constructing RapidNJ tree: done in 8.59043e-05 secs using 98.95% CPU\n",
      "Computing RapidNJ tree took 0.000918 sec (of wall-clock time) 0.000915 sec (of CPU time)\n",
      "Log-likelihood of RapidNJ tree: -2610.865\n",
      "--------------------------------------------------------------------\n",
      "|             INITIALIZING CANDIDATE TREE SET                      |\n",
      "--------------------------------------------------------------------\n",
      "Generating 98 parsimony trees... 0.034 second\n",
      "Computing log-likelihood of 98 initial trees ... 0.066 seconds\n",
      "Current best score: -2610.865\n",
      "\n",
      "Do NNI search on 20 best initial trees\n",
      "Optimizing NNI: done in 0.00500681 secs using 98.33% CPU\n",
      "Estimate model parameters (epsilon = 0.100)\n",
      "BETTER TREE FOUND at iteration 1: -2610.032\n",
      "Optimizing NNI: done in 0.00497145 secs using 99.97% CPU\n",
      "Optimizing NNI: done in 0.00909396 secs using 90.03% CPU\n",
      "Optimizing NNI: done in 0.00685458 secs using 58.41% CPU\n",
      "Optimizing NNI: done in 0.0071691 secs using 99.98% CPU\n",
      "Optimizing NNI: done in 0.00957553 secs using 99.99% CPU\n",
      "Optimizing NNI: done in 0.00696315 secs using 99.87% CPU\n",
      "Optimizing NNI: done in 0.00915112 secs using 99.99% CPU\n",
      "Optimizing NNI: done in 0.011732 secs using 99.83% CPU\n",
      "UPDATE BEST LOG-LIKELIHOOD: -2610.030\n",
      "Optimizing NNI: done in 0.00593418 secs using 99.98% CPU\n",
      "Iteration 10 / LogL: -2610.154 / Time: 0h:0m:0s\n",
      "Optimizing NNI: done in 0.0109777 secs using 99.98% CPU\n",
      "Optimizing NNI: done in 0.00736925 secs using 99.98% CPU\n",
      "Optimizing NNI: done in 0.00739731 secs using 99.98% CPU\n",
      "Optimizing NNI: done in 0.0104288 secs using 53.16% CPU\n",
      "UPDATE BEST LOG-LIKELIHOOD: -2610.030\n",
      "Optimizing NNI: done in 0.0122123 secs using 76.82% CPU\n",
      "Optimizing NNI: done in 0.00585278 secs using 99.85% CPU\n",
      "Optimizing NNI: done in 0.00853844 secs using 99.94% CPU\n",
      "Optimizing NNI: done in 0.00760107 secs using 99.99% CPU\n",
      "Optimizing NNI: done in 0.0119562 secs using 99.99% CPU\n",
      "UPDATE BEST LOG-LIKELIHOOD: -2610.030\n",
      "Optimizing NNI: done in 0.00815403 secs using 99.98% CPU\n",
      "Iteration 20 / LogL: -2610.436 / Time: 0h:0m:0s\n",
      "Finish initializing candidate tree set (3)\n",
      "Current best tree score: -2610.030 / CPU time: 0.276\n",
      "Number of iterations: 20\n",
      "--------------------------------------------------------------------\n",
      "|               OPTIMIZING CANDIDATE TREE SET                      |\n",
      "--------------------------------------------------------------------\n",
      "Optimizing NNI: done in 0.00671408 secs using 99.98% CPU\n",
      "Optimizing NNI: done in 0.00298279 secs using 99.97% CPU\n",
      "Optimizing NNI: done in 0.00676535 secs using 99.98% CPU\n",
      "Optimizing NNI: done in 0.0111015 secs using 99.98% CPU\n",
      "Optimizing NNI: done in 0.00400995 secs using 99.95% CPU\n",
      "Optimizing NNI: done in 0.00785762 secs using 99.83% CPU\n",
      "Optimizing NNI: done in 0.00635632 secs using 99.98% CPU\n",
      "Optimizing NNI: done in 0.0104368 secs using 99.99% CPU\n",
      "Optimizing NNI: done in 0.0114346 secs using 99.99% CPU\n",
      "Optimizing NNI: done in 0.00570496 secs using 99.98% CPU\n",
      "Iteration 30 / LogL: -2610.053 / Time: 0h:0m:0s (0h:0m:1s left)\n",
      "Optimizing NNI: done in 0.0093823 secs using 78.07% CPU\n",
      "Optimizing NNI: done in 0.00635486 secs using 74.24% CPU\n",
      "Optimizing NNI: done in 0.00536266 secs using 99.84% CPU\n",
      "Optimizing NNI: done in 0.00743499 secs using 99.49% CPU\n",
      "Optimizing NNI: done in 0.00751443 secs using 99.98% CPU\n",
      "Optimizing NNI: done in 0.00419564 secs using 99.98% CPU\n",
      "Optimizing NNI: done in 0.0148444 secs using 99.95% CPU\n",
      "Optimizing NNI: done in 0.00868989 secs using 99.99% CPU\n",
      "Optimizing NNI: done in 0.00615883 secs using 85.36% CPU\n",
      "Optimizing NNI: done in 0.0124211 secs using 44.92% CPU\n",
      "Iteration 40 / LogL: -2618.101 / Time: 0h:0m:0s (0h:0m:0s left)\n",
      "Optimizing NNI: done in 0.00765366 secs using 99.85% CPU\n",
      "Optimizing NNI: done in 0.0101386 secs using 99.99% CPU\n",
      "Optimizing NNI: done in 0.0064139 secs using 99.99% CPU\n",
      "Optimizing NNI: done in 0.0103929 secs using 99.98% CPU\n",
      "Optimizing NNI: done in 0.00854854 secs using 99.98% CPU\n",
      "Optimizing NNI: done in 0.00640678 secs using 99.99% CPU\n",
      "Optimizing NNI: done in 0.00802007 secs using 99.99% CPU\n",
      "Optimizing NNI: done in 0.0068227 secs using 99.98% CPU\n",
      "Optimizing NNI: done in 0.010516 secs using 99.99% CPU\n",
      "Optimizing NNI: done in 0.00393656 secs using 99.96% CPU\n",
      "Iteration 50 / LogL: -2610.425 / Time: 0h:0m:0s (0h:0m:0s left)\n",
      "Optimizing NNI: done in 0.0123437 secs using 99.99% CPU\n",
      "Optimizing NNI: done in 0.00637322 secs using 99.98% CPU\n",
      "Optimizing NNI: done in 0.00842124 secs using 99.99% CPU\n",
      "Optimizing NNI: done in 0.00787973 secs using 99.98% CPU\n",
      "Optimizing NNI: done in 0.00774104 secs using 64.98% CPU\n",
      "Optimizing NNI: done in 0.0100273 secs using 90.4% CPU\n",
      "Optimizing NNI: done in 0.00957386 secs using 99.98% CPU\n",
      "Optimizing NNI: done in 0.00665596 secs using 99.97% CPU\n",
      "Optimizing NNI: done in 0.00632735 secs using 99.98% CPU\n",
      "Optimizing NNI: done in 0.0124287 secs using 99.95% CPU\n",
      "Iteration 60 / LogL: -2610.065 / Time: 0h:0m:0s (0h:0m:0s left)\n",
      "Optimizing NNI: done in 0.00458817 secs using 99.97% CPU\n",
      "Optimizing NNI: done in 0.00596374 secs using 99.97% CPU\n",
      "Optimizing NNI: done in 0.00791236 secs using 99.98% CPU\n",
      "Optimizing NNI: done in 0.00618777 secs using 99.97% CPU\n",
      "Optimizing NNI: done in 0.00751405 secs using 99.97% CPU\n",
      "Optimizing NNI: done in 0.00435716 secs using 99.97% CPU\n",
      "Optimizing NNI: done in 0.00629161 secs using 38.38% CPU\n",
      "Optimizing NNI: done in 0.00544595 secs using 98.62% CPU\n",
      "Optimizing NNI: done in 0.00666339 secs using 99.98% CPU\n",
      "Optimizing NNI: done in 0.00981522 secs using 99.99% CPU\n",
      "Iteration 70 / LogL: -2610.160 / Time: 0h:0m:0s (0h:0m:0s left)\n",
      "Optimizing NNI: done in 0.0121924 secs using 99.89% CPU\n",
      "Optimizing NNI: done in 0.00755304 secs using 99.99% CPU\n",
      "Optimizing NNI: done in 0.00906553 secs using 99.98% CPU\n",
      "Optimizing NNI: done in 0.00748861 secs using 99.98% CPU\n",
      "Optimizing NNI: done in 0.00550761 secs using 99.97% CPU\n",
      "Optimizing NNI: done in 0.012251 secs using 99.98% CPU\n",
      "Optimizing NNI: done in 0.00825837 secs using 99.97% CPU\n",
      "Optimizing NNI: done in 0.00588506 secs using 99.97% CPU\n",
      "Optimizing NNI: done in 0.0115544 secs using 99.98% CPU\n",
      "Optimizing NNI: done in 0.00828556 secs using 99.98% CPU\n",
      "Iteration 80 / LogL: -2610.380 / Time: 0h:0m:0s (0h:0m:0s left)\n",
      "Optimizing NNI: done in 0.00682278 secs using 99.97% CPU\n",
      "Optimizing NNI: done in 0.00439005 secs using 99.95% CPU\n",
      "UPDATE BEST LOG-LIKELIHOOD: -2610.030\n",
      "Optimizing NNI: done in 0.00862168 secs using 99.98% CPU\n",
      "Optimizing NNI: done in 0.0126455 secs using 99.98% CPU\n",
      "Optimizing NNI: done in 0.00639279 secs using 99.97% CPU\n",
      "Optimizing NNI: done in 0.0101662 secs using 99.99% CPU\n",
      "Optimizing NNI: done in 0.00707069 secs using 99.99% CPU\n",
      "Optimizing NNI: done in 0.0078156 secs using 99.97% CPU\n",
      "Optimizing NNI: done in 0.00773664 secs using 99.98% CPU\n",
      "Optimizing NNI: done in 0.00642268 secs using 99.97% CPU\n",
      "Iteration 90 / LogL: -2610.063 / Time: 0h:0m:0s (0h:0m:0s left)\n",
      "Optimizing NNI: done in 0.0133875 secs using 99.99% CPU\n",
      "Optimizing NNI: done in 0.00618097 secs using 99.98% CPU\n",
      "Optimizing NNI: done in 0.0087916 secs using 99.97% CPU\n",
      "Optimizing NNI: done in 0.0051278 secs using 99.98% CPU\n",
      "Optimizing NNI: done in 0.00642028 secs using 99.98% CPU\n",
      "Optimizing NNI: done in 0.0101127 secs using 22.48% CPU\n",
      "Optimizing NNI: done in 0.0132855 secs using 98.96% CPU\n",
      "Optimizing NNI: done in 0.00985405 secs using 99.98% CPU\n",
      "Optimizing NNI: done in 0.00607071 secs using 99.97% CPU\n",
      "Optimizing NNI: done in 0.00968047 secs using 99.97% CPU\n",
      "Iteration 100 / LogL: -2610.523 / Time: 0h:0m:1s (0h:0m:0s left)\n",
      "Optimizing NNI: done in 0.0111642 secs using 99.99% CPU\n",
      "Optimizing NNI: done in 0.00608087 secs using 99.97% CPU\n",
      "TREE SEARCH COMPLETED AFTER 102 ITERATIONS / Time: 0h:0m:1s\n",
      "\n",
      "--------------------------------------------------------------------\n",
      "|                    FINALIZING TREE SEARCH                        |\n",
      "--------------------------------------------------------------------\n",
      "Performs final model parameters optimization\n",
      "Estimate model parameters (epsilon = 0.010)\n",
      "1. Initial log-likelihood: -2610.030\n",
      "2. Current log-likelihood: -2609.993\n",
      "3. Current log-likelihood: -2609.942\n",
      "4. Current log-likelihood: -2609.895\n",
      "5. Current log-likelihood: -2609.857\n",
      "6. Current log-likelihood: -2609.826\n",
      "7. Current log-likelihood: -2609.800\n",
      "8. Current log-likelihood: -2609.779\n",
      "9. Current log-likelihood: -2609.761\n",
      "Optimal log-likelihood: -2609.751\n",
      "Rate parameters:  A-C: 0.10467  A-G: 8.42079  A-T: 0.03803  C-G: 0.00010  C-T: 3.89572  G-T: 1.00000\n",
      "Warning! Some parameters hit the boundaries\n",
      "Base frequencies:  A: 0.375  C: 0.402  G: 0.039  T: 0.184\n",
      "Gamma shape alpha: 2.716\n",
      "Parameters optimization took 9 rounds (0.035 sec)\n",
      "BEST SCORE FOUND : -2609.751\n",
      "Total tree length: 35.893\n",
      "\n",
      "Total number of iterations: 102\n",
      "CPU time used for tree search: 0.916 sec (0h:0m:0s)\n",
      "Wall-clock time used for tree search: 0.958 sec (0h:0m:0s)\n",
      "Total CPU time used: 1.070 sec (0h:0m:1s)\n",
      "Total wall-clock time used: 1.110 sec (0h:0m:1s)\n",
      "\n",
      "Analysis results written to: \n",
      "  IQ-TREE report:                ../trees/primates.iqtree\n",
      "  Maximum-likelihood tree:       ../trees/primates.treefile\n",
      "  Likelihood distances:          ../trees/primates.mldist\n",
      "  Screen log file:               ../trees/primates.log\n",
      "\n",
      "Date and Time: Thu Sep 18 16:42:21 2025\n"
     ]
    }
   ],
   "source": [
    "primate_iqtree_prefix = f\"{tree_dir}/primates\"\n",
    "!pixi run iqtree -s $data_dir/primates.fa -m GTR+G --prefix $primate_iqtree_prefix --redo\n",
    "primate_iqtree_file = f\"{primate_iqtree_prefix}.treefile\""
   ]
  },
  {
   "cell_type": "code",
   "execution_count": 7,
   "id": "7b6e89f6",
   "metadata": {},
   "outputs": [
    {
     "name": "stdout",
     "output_type": "stream",
     "text": [
      "(Mouse:8.3557270836,((Bovine:2.5963494542,Lemur:4.8260218164):1.1363701356,Tarsier:5.3614256276):0.8929574644,(SquirMonk:2.9417796358,((JpnMacaq:0.0000029242,(RhesusMac:0.0964657866,(CrabEMac:0.1339703904,BarbMacaq:0.5369865414):0.1170784582):0.0205794511):1.4487558401,(Gibbon:1.3183092356,(Orang:0.8632011204,(Gorilla:0.1681777496,(Chimp:0.2545481157,Human:0.1205079715):0.2193569261):0.2118140431):0.4130042967):1.0934384331):0.9379140845):1.8281193536);\n"
     ]
    }
   ],
   "source": [
    "!cat $tree_dir/primates.treefile"
   ]
  },
  {
   "cell_type": "markdown",
   "id": "79d620fa",
   "metadata": {},
   "source": [
    "This tree seems already more plausible:\n",
    "\n",
    "* &#x2705; Mouse is the outgroup, far outside the other mammals, which makes sense given its divergence.\n",
    "* &#x2705; Squirrel Monkey separates next, rather than clustering with other New World monkeys \n",
    "* &#x2705; Old World monkeys (Japanese Macaque, Rhesus Macaque, Crab-eating Macaque, Barbary Macaque) form a nested clade\n",
    "* &#x2705; Apes (Gibbon, Orangutan, Gorilla, Chimpanzee, Human) form a well-supported, nested clade\n",
    "* Bovine and Lemur form a clade that branches off early: unusual (bovines are not primates)\n",
    "* Tarsier is slightly more derived than the Bovine–Lemur clade, which is also somewhat unexpected."
   ]
  },
  {
   "cell_type": "markdown",
   "id": "81c0a9c1",
   "metadata": {},
   "source": [
    "Factors that could enhance the accuracy of the tree include the choice of evolutionary model and, most importantly, the quality of the data. Here, our dataset is minuscule (232 base pairs!), so more data, for example by including more genes, would greatly improve our ability to reconstruct a plausible evolutionary history."
   ]
  },
  {
   "cell_type": "markdown",
   "id": "d5f43370",
   "metadata": {},
   "source": [
    "## Visualizing trees\n",
    "\n",
    "Several libraries in python already exist to visualize trees. A popular library is [ete](https://etetoolkit.org/).\n",
    "\n",
    "To have an ASCII drawing of the tree (without branch lengths represented), simply use `print`"
   ]
  },
  {
   "cell_type": "code",
   "execution_count": 8,
   "id": "76fd9d41",
   "metadata": {},
   "outputs": [
    {
     "name": "stdout",
     "output_type": "stream",
     "text": [
      "\n",
      "   /-Mouse\n",
      "  |\n",
      "  |      /-Bovine\n",
      "  |   /-|\n",
      "  |--|   \\-Lemur\n",
      "--|  |\n",
      "  |   \\-Tarsier\n",
      "  |\n",
      "  |   /-SquirMonk\n",
      "  |  |\n",
      "  |  |      /-JpnMacaq\n",
      "   \\-|   /-|\n",
      "     |  |  |   /-RhesusMac\n",
      "     |  |   \\-|\n",
      "     |  |     |   /-CrabEMac\n",
      "      \\-|      \\-|\n",
      "        |         \\-BarbMacaq\n",
      "        |\n",
      "        |   /-Gibbon\n",
      "         \\-|\n",
      "           |   /-Orang\n",
      "            \\-|\n",
      "              |   /-Gorilla\n",
      "               \\-|\n",
      "                 |   /-Chimp\n",
      "                  \\-|\n",
      "                     \\-Human\n"
     ]
    }
   ],
   "source": [
    "# import PyQt5\n",
    "from ete3 import Tree\n",
    "\n",
    "# Load a tree from a Newick file*\n",
    "primate_iqtree_tree = Tree(primate_iqtree_file)\n",
    "\n",
    "# Print the tree in ASCII format\n",
    "print(primate_iqtree_tree)"
   ]
  },
  {
   "cell_type": "markdown",
   "id": "66fcaabd",
   "metadata": {},
   "source": [
    "Interactive visualisations are also possible using `primate_iqtree_tree.show()`. They require PyQt5 (`pixi add --pypi PyQt5`) and may crash your notebook.\n",
    "\n",
    "We provide here a small function to plot a tree from an ete3 Tree in matplotlib."
   ]
  },
  {
   "cell_type": "code",
   "execution_count": 9,
   "id": "c2fc3530",
   "metadata": {},
   "outputs": [],
   "source": [
    "import itertools\n",
    "\n",
    "import matplotlib.pyplot as plt\n",
    "import numpy as np\n",
    "from matplotlib.collections import LineCollection\n",
    "\n",
    "\n",
    "def plot_tree(\n",
    "    tree,\n",
    "    align_names=False,\n",
    "    name_offset=None,\n",
    "    fontsize=9,\n",
    "    cdict=None,\n",
    "    outgroup=None,\n",
    "    ax=None,\n",
    "):\n",
    "    \"\"\"\n",
    "    Plots a ete3.Tree object using matploltib.\n",
    "\n",
    "    Adapted from: https://gist.github.com/jolespin/5d90deff552138d73de7ed4bdd9ac57a\n",
    "\n",
    "    Parameters\n",
    "    ----------\n",
    "    tree : str\n",
    "        An ete3.Tree object\n",
    "    align_names: bool\n",
    "        If True names will be aligned vertically, by default False\n",
    "    name_offset : float, optional\n",
    "        Offset relative to tips to write leaf_names. In BL scale, by default None\n",
    "    fontsize : int, optional\n",
    "        Text font size, by default 9\n",
    "    ax : matplotlib.Axes object, optional\n",
    "        Object on which the tree will be plotted, by default None\n",
    "\n",
    "    Returns\n",
    "    -------\n",
    "    ax : matplotlib.Axes object\n",
    "        The matplotlib axis containing the drawn tree\n",
    "    \"\"\"\n",
    "    if outgroup is not None:\n",
    "        if isinstance(outgroup, list):\n",
    "            outgroup = tree.get_common_ancestor(outgroup)\n",
    "        tree.set_outgroup(outgroup)\n",
    "\n",
    "    if ax is None:\n",
    "        ax = plt.gca()\n",
    "\n",
    "    aligned_lines = []\n",
    "\n",
    "    max_x = max(n.get_distance(tree) for n in tree.iter_leaves())\n",
    "\n",
    "    if name_offset is None:\n",
    "        name_offset = max_x / 50.0\n",
    "\n",
    "    node_pos = {n2: i for i, n2 in enumerate(tree.get_leaves()[::-1])}\n",
    "    node_list = itertools.chain(tree.iter_descendants(strategy=\"postorder\"), [tree])\n",
    "\n",
    "    # draw tree\n",
    "    for node in node_list:\n",
    "        # Parent style\n",
    "        # pstyle = node.img_style\n",
    "\n",
    "        x = sum(n2.dist for n2 in node.iter_ancestors()) + node.dist\n",
    "\n",
    "        if node.is_leaf():\n",
    "            y = node_pos[node]\n",
    "            if align_names:\n",
    "                x = max_x\n",
    "                aligned_lines.append(((x, y), (max_x + name_offset, y)))\n",
    "\n",
    "        else:\n",
    "            y = np.mean([node_pos[n2] for n2 in node.children])\n",
    "            node_pos[node] = y\n",
    "\n",
    "            # draw vertical line\n",
    "            ax.plot(\n",
    "                [x, x],\n",
    "                [node_pos[node.children[0]], node_pos[node.children[-1]]],\n",
    "                c=\"k\",\n",
    "            )\n",
    "\n",
    "            # draw horizontal lines\n",
    "            for child in node.children:\n",
    "                # Child style\n",
    "                # cstyle = child.img_style\n",
    "                ax.plot(\n",
    "                    [x, x + child.dist],\n",
    "                    [node_pos[child], node_pos[child]],\n",
    "                    c=\"k\",\n",
    "                )\n",
    "\n",
    "        # Node label\n",
    "        ax.text(\n",
    "            x + name_offset,\n",
    "            y,\n",
    "            node.name,\n",
    "            va=\"center\",\n",
    "            size=fontsize,\n",
    "            c=\"k\",\n",
    "        )\n",
    "\n",
    "        # Node point\n",
    "        ax.scatter(\n",
    "            x,\n",
    "            y,\n",
    "            c=(cdict.get(node.name, \"none\") if cdict else \"k\"),\n",
    "            zorder=10,\n",
    "        )\n",
    "\n",
    "    ali_line_col = LineCollection(aligned_lines, colors=\"k\")\n",
    "\n",
    "    ax.add_collection(ali_line_col)\n",
    "\n",
    "    # ax.set_axis_off()\n",
    "    ax.set_yticks([])\n",
    "    ax.spines[\"top\"].set_visible(False)\n",
    "    ax.spines[\"right\"].set_visible(False)\n",
    "    ax.spines[\"left\"].set_visible(False)\n",
    "    ax.xaxis.set_tick_params(labelsize=fontsize)\n",
    "\n",
    "    return ax"
   ]
  },
  {
   "cell_type": "markdown",
   "id": "382e8987",
   "metadata": {},
   "source": [
    "The x-axis consitute the branch lengths"
   ]
  },
  {
   "cell_type": "code",
   "execution_count": 10,
   "id": "ce09454b",
   "metadata": {},
   "outputs": [
    {
     "data": {
      "image/png": "[encoded data removed]",
      "text/plain": [
       "<Figure size 1000x600 with 2 Axes>"
      ]
     },
     "metadata": {},
     "output_type": "display_data"
    }
   ],
   "source": [
    "fig, axs = plt.subplots(1, 2, figsize=(10, 6))\n",
    "primate_rapidnj_tree = Tree(primate_rapidnj_file)\n",
    "plot_tree(primate_rapidnj_tree, ax=axs[0])\n",
    "plot_tree(primate_iqtree_tree, ax=axs[1])\n",
    "plt.show()"
   ]
  },
  {
   "cell_type": "markdown",
   "id": "ed973c6e",
   "metadata": {},
   "source": [
    "## Manipulating trees with phylo2vec\n",
    "\n",
    "Before looking at how to use the produced trees with phylo2vec, we will quickly visit its main functions.\n",
    "\n",
    "To import phylo2vec, simply run `import phylo2vec`"
   ]
  },
  {
   "cell_type": "code",
   "execution_count": 11,
   "id": "8d5e8394",
   "metadata": {},
   "outputs": [],
   "source": [
    "import phylo2vec as p2v"
   ]
  },
  {
   "cell_type": "markdown",
   "id": "14df9686",
   "metadata": {},
   "source": [
    "### Sampling a random tree\n",
    "The definition of phylo2vec makes it very convenient to rapidly sample large, or lots of, trees.\n",
    "\n",
    "Use `sample_vector` to sample a random tree topology. "
   ]
  },
  {
   "cell_type": "code",
   "execution_count": 12,
   "id": "458c70aa",
   "metadata": {},
   "outputs": [
    {
     "name": "stdout",
     "output_type": "stream",
     "text": [
      "\u001b[31mSignature:\u001b[39m p2v.sample_vector(n_leaves: int, ordered: bool = \u001b[38;5;28;01mFalse\u001b[39;00m) -> numpy.ndarray\n",
      "\u001b[31mDocstring:\u001b[39m\n",
      "Sample a random tree via Phylo2Vec, in vector form.\n",
      "\n",
      "Parameters\n",
      "----------\n",
      "n_leaves : int\n",
      "    Number of leaves (>= 2)\n",
      "ordered : bool, optional\n",
      "    If True, sample an ordered tree, by default False\n",
      "\n",
      "    True:\n",
      "    v_i in {0, 1, ..., i} for i in (0, n_leaves-1)\n",
      "\n",
      "    False:\n",
      "    v_i in {0, 1, ..., 2*i} for i in (0, n_leaves-1)\n",
      "\n",
      "Returns\n",
      "-------\n",
      "numpy.ndarray\n",
      "    Phylo2Vec vector\n",
      "\u001b[31mFile:\u001b[39m      ~/src/phylo2vec/workshop/.pixi/envs/default/lib/python3.11/site-packages/phylo2vec/utils/vector.py\n",
      "\u001b[31mType:\u001b[39m      function"
     ]
    }
   ],
   "source": [
    "p2v.sample_vector?"
   ]
  },
  {
   "cell_type": "code",
   "execution_count": 13,
   "id": "4573b278",
   "metadata": {},
   "outputs": [
    {
     "data": {
      "text/plain": [
       "array([0, 1, 4, 4])"
      ]
     },
     "execution_count": 13,
     "metadata": {},
     "output_type": "execute_result"
    }
   ],
   "source": [
    "v5 = p2v.sample_vector(5)\n",
    "v5"
   ]
  },
  {
   "cell_type": "markdown",
   "id": "80c2eb6c",
   "metadata": {},
   "source": [
    "Use `sample_matrix` to sample a random tree (topology + branch lengths)"
   ]
  },
  {
   "cell_type": "code",
   "execution_count": 14,
   "id": "12f55bb0",
   "metadata": {},
   "outputs": [
    {
     "name": "stdout",
     "output_type": "stream",
     "text": [
      "\u001b[31mSignature:\u001b[39m p2v.sample_matrix(n_leaves: int, ordered: bool = \u001b[38;5;28;01mFalse\u001b[39;00m) -> numpy.ndarray\n",
      "\u001b[31mDocstring:\u001b[39m\n",
      "Sample a random tree with branch lengths via Phylo2Vec, in matrix form.\n",
      "\n",
      "Parameters\n",
      "----------\n",
      "n_leaves : int\n",
      "    Number of leaves (>= 2)\n",
      "ordered : bool, optional\n",
      "    If True, sample an ordered tree, by default False\n",
      "\n",
      "Returns\n",
      "-------\n",
      "numpy.ndarray\n",
      "    Phylo2Vec matrix\n",
      "    Dimensions (n_leaves, 3)\n",
      "    1st column: Phylo2Vec vector\n",
      "    2nd and 3rd columns: branch lengths of cherry [i] in the ancestry matrix\n",
      "\u001b[31mFile:\u001b[39m      ~/src/phylo2vec/workshop/.pixi/envs/default/lib/python3.11/site-packages/phylo2vec/utils/matrix.py\n",
      "\u001b[31mType:\u001b[39m      function"
     ]
    }
   ],
   "source": [
    "p2v.sample_matrix?"
   ]
  },
  {
   "cell_type": "code",
   "execution_count": 15,
   "id": "a64748a5",
   "metadata": {},
   "outputs": [
    {
     "data": {
      "text/plain": [
       "array([[0.   , 0.007, 0.785],\n",
       "       [0.   , 0.52 , 0.221],\n",
       "       [4.   , 0.012, 0.75 ],\n",
       "       [4.   , 0.452, 0.553],\n",
       "       [5.   , 0.82 , 0.899]])"
      ]
     },
     "execution_count": 15,
     "metadata": {},
     "output_type": "execute_result"
    }
   ],
   "source": [
    "m6 = p2v.sample_matrix(6).round(3)\n",
    "m6"
   ]
  },
  {
   "cell_type": "markdown",
   "id": "55e829b3",
   "metadata": {},
   "source": [
    "### Conversion: v <--> Newick"
   ]
  },
  {
   "cell_type": "markdown",
   "id": "b37a4b92",
   "metadata": {},
   "source": [
    "Use `to_newick` to convert a vector to a Newick string."
   ]
  },
  {
   "cell_type": "code",
   "execution_count": 16,
   "id": "b0dbffb4",
   "metadata": {},
   "outputs": [
    {
     "name": "stdout",
     "output_type": "stream",
     "text": [
      "Newick from v5: ((0,((1,2)5,4)6)7,3)8;\n",
      "Newick from m6: (((((0:0.007,2:0.785)6:0.52,5:0.221)7:0.012,4:0.75)8:0.452,1:0.553)9:0.82,3:0.899)10;\n"
     ]
    }
   ],
   "source": [
    "newick5 = p2v.to_newick(v5)\n",
    "newick6 = p2v.to_newick(m6)\n",
    "\n",
    "print(f\"Newick from v5: {newick5}\")\n",
    "print(f\"Newick from m6: {newick6}\")"
   ]
  },
  {
   "cell_type": "markdown",
   "id": "a470e0b3",
   "metadata": {},
   "source": [
    "Use `from_newick` to convert a Newick string to a vector."
   ]
  },
  {
   "cell_type": "code",
   "execution_count": 17,
   "id": "2601ec39",
   "metadata": {},
   "outputs": [
    {
     "name": "stdout",
     "output_type": "stream",
     "text": [
      "Is v5 equal to v5_new? True\n",
      "Is m6 equal to m6_new? True\n"
     ]
    }
   ],
   "source": [
    "v5_new = p2v.from_newick(newick5)\n",
    "print(f\"Is v5 equal to v5_new? {np.array_equal(v5, v5_new)}\")\n",
    "\n",
    "m6_new = p2v.from_newick(newick6)\n",
    "print(f\"Is m6 equal to m6_new? {np.array_equal(m6, m6_new)}\")"
   ]
  },
  {
   "cell_type": "markdown",
   "id": "6ef907c5",
   "metadata": {},
   "source": [
    "### Conversion: v <--> Edge list\n",
    "\n",
    "An intuitive way to represent a tree topology (or any graph) is a list of edges\n"
   ]
  },
  {
   "cell_type": "code",
   "execution_count": 18,
   "id": "d4c5c340",
   "metadata": {},
   "outputs": [
    {
     "name": "stdout",
     "output_type": "stream",
     "text": [
      "\u001b[31mSignature:\u001b[39m p2v.to_edges(v: numpy.ndarray) -> List[Tuple[int, int]]\n",
      "\u001b[31mDocstring:\u001b[39m\n",
      "Convert a Phylo2Vec vector to an edge list\n",
      "\n",
      "Each edge is represented as a list of two nodes (child, parent)\n",
      "\n",
      "Parameters\n",
      "----------\n",
      "v : numpy.ndarray\n",
      "    Phylo2Vec vector\n",
      "\n",
      "Returns\n",
      "-------\n",
      "edges : List[Tuple[int, int]]\n",
      "    List of (child, parent) edges\n",
      "\u001b[31mFile:\u001b[39m      ~/src/phylo2vec/workshop/.pixi/envs/default/lib/python3.11/site-packages/phylo2vec/base/edges.py\n",
      "\u001b[31mType:\u001b[39m      function"
     ]
    }
   ],
   "source": [
    "p2v.to_edges?"
   ]
  },
  {
   "cell_type": "markdown",
   "id": "8e2752c5",
   "metadata": {},
   "source": [
    "Use `to_edges` to convert a vector to a list of tree edges (node1, node2)\n",
    "Use `from_edges` to convert a list of edges back to a vector"
   ]
  },
  {
   "cell_type": "code",
   "execution_count": 19,
   "id": "06a7ee74",
   "metadata": {},
   "outputs": [
    {
     "name": "stdout",
     "output_type": "stream",
     "text": [
      "[(1, 5), (2, 5), (5, 6), (4, 6), (0, 7), (6, 7), (7, 8), (3, 8)]\n",
      "Is v5 equal to v5_edges? True\n"
     ]
    }
   ],
   "source": [
    "edges5 = p2v.to_edges(v5)\n",
    "print(edges5)\n",
    "v5_edges = p2v.from_edges(edges5)\n",
    "print(f\"Is v5 equal to v5_edges? {np.array_equal(v5, v5_edges)}\")"
   ]
  },
  {
   "cell_type": "markdown",
   "id": "f2bf9292",
   "metadata": {},
   "source": [
    "### Conversion: v <--> Ancestry matrix\n",
    "\n",
    "An intermediate way between the compact phylo2vec format and the Newick string of representing tree topology is what we call the \"ancestry\" matrix, a matrix of triplets [child1, child2, parent].\n",
    "\n",
    "Use `to_ancestry` to convert a vector to an ancestry matrix"
   ]
  },
  {
   "cell_type": "code",
   "execution_count": 20,
   "id": "81331a02",
   "metadata": {},
   "outputs": [
    {
     "name": "stdout",
     "output_type": "stream",
     "text": [
      "Ancestry from v5:\n",
      "[[1 2 5]\n",
      " [5 4 6]\n",
      " [0 6 7]\n",
      " [7 3 8]]\n",
      "Ancestry from m6:\n",
      "[[ 0  2  6]\n",
      " [ 6  5  7]\n",
      " [ 7  4  8]\n",
      " [ 8  1  9]\n",
      " [ 9  3 10]]\n"
     ]
    }
   ],
   "source": [
    "anc5 = p2v.to_ancestry(v5)\n",
    "anc6 = p2v.to_ancestry(m6[:, 0].astype(int))\n",
    "\n",
    "print(f\"Ancestry from v5:\\n{anc5}\")\n",
    "print(f\"Ancestry from m6:\\n{anc6}\")"
   ]
  },
  {
   "cell_type": "markdown",
   "id": "38e5a779",
   "metadata": {},
   "source": [
    "The ancestry matrix is also useful to understand the order of the branch lengths in the matrix format. For a row $i$ of m6, the branch lengths are those of the children of triplet $i$."
   ]
  },
  {
   "cell_type": "code",
   "execution_count": 21,
   "id": "3bbf7db9",
   "metadata": {},
   "outputs": [
    {
     "data": {
      "text/plain": [
       "<Axes: >"
      ]
     },
     "execution_count": 21,
     "metadata": {},
     "output_type": "execute_result"
    },
    {
     "data": {
      "image/png": "[encoded data removed]",
      "text/plain": [
       "<Figure size 640x480 with 1 Axes>"
      ]
     },
     "metadata": {},
     "output_type": "display_data"
    }
   ],
   "source": [
    "plot_tree(Tree(newick6))"
   ]
  },
  {
   "cell_type": "markdown",
   "id": "0826bf74",
   "metadata": {},
   "source": [
    "### Back to our primate trees\n",
    "phylo2vec works on *rooted* integer trees, while both rapidNJ and IQ-TREE produce *unrooted* trees. Before loading the produced trees into phylo2vec, we need to:\n",
    "1. Root the trees (we will here use `Mouse`, as we assume that it is the most distantly related taxon). For that, we use the `set_outgroup` function of ete3\n",
    "2. Apply a mapping of string to integer to keep the same information while having an integer tree. For that, we use the `create_label_mapping` function of phylo2vec"
   ]
  },
  {
   "cell_type": "code",
   "execution_count": null,
   "id": "8692b0f3",
   "metadata": {},
   "outputs": [],
   "source": [
    "from phylo2vec.utils.newick import create_label_mapping\n",
    "\n",
    "\n",
    "def load_tree(file, root=None, with_branch_lengths=True):\n",
    "    # Load into ete3 for potential re-rooting\n",
    "    tr = Tree(file)\n",
    "    # Reroot\n",
    "    if root:\n",
    "        tr.set_outgroup(root)\n",
    "    # Write the tree back to Newick\n",
    "    if with_branch_lengths:\n",
    "        newick_str = tr.write(format=1, dist_formatter=\"%.06f\")\n",
    "    else:\n",
    "        newick_str = tr.write(format=9)\n",
    "\n",
    "    # Apply a mapping\n",
    "    newick_int, label_mapping = create_label_mapping(newick_str.replace(\"'\", \"\"))\n",
    "\n",
    "    data = {\n",
    "        \"newick_str\": newick_str,\n",
    "        \"newick_int\": newick_int,\n",
    "        \"label_mapping\": dict(sorted(label_mapping.items())),\n",
    "    }\n",
    "\n",
    "    # Convert to phylo2vec object\n",
    "    p2v_obj = p2v.from_newick(newick_int)\n",
    "\n",
    "    if p2v_obj.ndim == 1:\n",
    "        # ndim == 1 means it's a vector\n",
    "        data[\"v\"] = p2v_obj\n",
    "    elif p2v_obj.ndim == 2:\n",
    "        # ndim == 2 means it's a matrix\n",
    "        data[\"m\"] = p2v_obj\n",
    "        data[\"v\"] = p2v_obj[:, 0].astype(int)\n",
    "    else:\n",
    "        raise ValueError(\"Unexpected ndim in phylo2vec object\")\n",
    "    return data"
   ]
  },
  {
   "cell_type": "code",
   "execution_count": null,
   "id": "602ab107",
   "metadata": {},
   "outputs": [
    {
     "data": {
      "text/plain": [
       "{'newick_str': '(Mouse,(((Bovine,Lemur),Tarsier),(SquirMonk,((JpnMacaq,(RhesusMac,(CrabEMac,BarbMacaq))),(Gibbon,(Orang,(Gorilla,(Chimp,Human))))))));',\n",
       " 'newick_int': '(0,(((1,2),3),(4,((5,(6,(7,8))),(9,(10,(11,(12,13))))))));',\n",
       " 'label_mapping': {0: 'Mouse',\n",
       "  1: 'Bovine',\n",
       "  2: 'Lemur',\n",
       "  3: 'Tarsier',\n",
       "  4: 'SquirMonk',\n",
       "  5: 'JpnMacaq',\n",
       "  6: 'RhesusMac',\n",
       "  7: 'CrabEMac',\n",
       "  8: 'BarbMacaq',\n",
       "  9: 'Gibbon',\n",
       "  10: 'Orang',\n",
       "  11: 'Gorilla',\n",
       "  12: 'Chimp',\n",
       "  13: 'Human'},\n",
       " 'v': array([ 0,  1,  3,  5,  4,  5,  6,  7, 11,  9, 10, 11, 12])}"
      ]
     },
     "execution_count": 23,
     "metadata": {},
     "output_type": "execute_result"
    }
   ],
   "source": [
    "primate_iqtree_data = load_tree(\n",
    "    primate_iqtree_file, root=\"Mouse\", with_branch_lengths=False\n",
    ")\n",
    "\n",
    "primate_iqtree_data"
   ]
  },
  {
   "cell_type": "markdown",
   "id": "779b2387",
   "metadata": {},
   "source": [
    "Here:\n",
    "* `newick_str` is the orginal tree (without branch lengths)\n",
    "* `newick_int` is the same tree, but with using integers to represent leaves\n",
    "* `label_mapping` is a dict of the integer-to-taxon mapping\n",
    "* `v` is the phylo2vec vector extracted from `newick_int`"
   ]
  },
  {
   "cell_type": "code",
   "execution_count": 24,
   "id": "4b634ea9",
   "metadata": {},
   "outputs": [
    {
     "data": {
      "text/plain": [
       "<Axes: >"
      ]
     },
     "execution_count": 24,
     "metadata": {},
     "output_type": "execute_result"
    },
    {
     "data": {
      "image/png": "[encoded data removed]",
      "text/plain": [
       "<Figure size 640x480 with 1 Axes>"
      ]
     },
     "metadata": {},
     "output_type": "display_data"
    }
   ],
   "source": [
    "plot_tree(Tree(primate_iqtree_data[\"newick_int\"]))"
   ]
  },
  {
   "cell_type": "markdown",
   "id": "554d113e",
   "metadata": {},
   "source": [
    "One of the core functions of phylo2vec is to convert several objects representing trees to this compact vector format, and vice versa."
   ]
  },
  {
   "cell_type": "code",
   "execution_count": 25,
   "id": "f8764d2b",
   "metadata": {},
   "outputs": [
    {
     "name": "stdout",
     "output_type": "stream",
     "text": [
      "Vector representation: array([ 0,  1,  3,  5,  4,  5,  6,  7, 11,  9, 10, 11, 12])\n",
      "Original integer Newick: (0,(((1,2),3),(4,((5,(6,(7,8))),(9,(10,(11,(12,13))))))));\n",
      "Converted integer Newick: (0,(((1,2)23,3)24,(4,((5,(6,(7,8)18)19)20,(9,(10,(11,(12,13)14)15)16)17)21)22)25)26;\n"
     ]
    }
   ],
   "source": [
    "import phylo2vec as p2v\n",
    "\n",
    "v = primate_iqtree_data[\"v\"]\n",
    "print(f\"Vector representation: {repr(v)}\")\n",
    "print(f\"Original integer Newick: {primate_iqtree_data['newick_int']}\")\n",
    "print(f\"Converted integer Newick: {p2v.to_newick(v)}\")"
   ]
  },
  {
   "cell_type": "markdown",
   "id": "7d173dde",
   "metadata": {},
   "source": [
    "Another example is a list of graph edges of the form (child, parent)"
   ]
  },
  {
   "cell_type": "code",
   "execution_count": 26,
   "id": "88612b40",
   "metadata": {},
   "outputs": [
    {
     "name": "stdout",
     "output_type": "stream",
     "text": [
      "Edge list: [(12, 14), (13, 14), (11, 15), (14, 15), (10, 16), (15, 16), (9, 17), (16, 17), (7, 18), (8, 18), (6, 19), (18, 19), (5, 20), (19, 20), (20, 21), (17, 21), (4, 22), (21, 22), (1, 23), (2, 23), (23, 24), (3, 24), (24, 25), (22, 25), (0, 26), (25, 26)]\n"
     ]
    }
   ],
   "source": [
    "edges = p2v.to_edges(v)\n",
    "print(f\"Edge list: {edges}\")\n",
    "new_v = p2v.from_edges(edges)\n",
    "assert np.array_equal(v, new_v)"
   ]
  },
  {
   "cell_type": "code",
   "execution_count": 27,
   "id": "81ade3ae",
   "metadata": {},
   "outputs": [
    {
     "data": {
      "text/plain": [
       "{'newick_str': \"('Mouse':0.267050,((((((('Human':0.115680,'Chimp':0.178270):0.088192,'Gorilla':0.112280):0.066043,'Orang':0.201080):0.068184,'Gibbon':0.301130):0.045591,((('RhesusMac':0.066186,'JpnMacaq':0.038473):0.032833,'CrabEMac':0.172450):0.116060,'BarbMacaq':0.174200):0.145580):0.085270,'SquirMonk':0.386660):0.061420,(('Tarsier':0.420990,'Lemur':0.367210):0.101000,'Bovine':0.343560):0.017041):0.267050);\",\n",
       " 'newick_int': '(0:0.267050,(((((((1:0.115680,2:0.178270):0.088192,3:0.112280):0.066043,4:0.201080):0.068184,5:0.301130):0.045591,(((6:0.066186,7:0.038473):0.032833,8:0.172450):0.116060,9:0.174200):0.145580):0.085270,10:0.386660):0.061420,((11:0.420990,12:0.367210):0.101000,13:0.343560):0.017041):0.267050);',\n",
       " 'label_mapping': {0: 'Mouse',\n",
       "  1: 'Human',\n",
       "  2: 'Chimp',\n",
       "  3: 'Gorilla',\n",
       "  4: 'Orang',\n",
       "  5: 'Gibbon',\n",
       "  6: 'RhesusMac',\n",
       "  7: 'JpnMacaq',\n",
       "  8: 'CrabEMac',\n",
       "  9: 'BarbMacaq',\n",
       "  10: 'SquirMonk',\n",
       "  11: 'Tarsier',\n",
       "  12: 'Lemur',\n",
       "  13: 'Bovine'},\n",
       " 'm': array([[0.0000e+00, 4.2099e-01, 3.6721e-01],\n",
       "        [1.0000e+00, 1.0100e-01, 3.4356e-01],\n",
       "        [3.0000e+00, 6.6186e-02, 3.8473e-02],\n",
       "        [5.0000e+00, 3.2833e-02, 1.7245e-01],\n",
       "        [7.0000e+00, 1.1606e-01, 1.7420e-01],\n",
       "        [9.0000e+00, 1.1568e-01, 1.7827e-01],\n",
       "        [6.0000e+00, 8.8192e-02, 1.1228e-01],\n",
       "        [8.0000e+00, 6.6043e-02, 2.0108e-01],\n",
       "        [1.0000e+01, 6.8184e-02, 3.0113e-01],\n",
       "        [1.7000e+01, 4.5591e-02, 1.4558e-01],\n",
       "        [1.9000e+01, 8.5270e-02, 3.8666e-01],\n",
       "        [1.1000e+01, 6.1420e-02, 1.7041e-02],\n",
       "        [1.3000e+01, 2.6705e-01, 2.6705e-01]]),\n",
       " 'v': array([ 0,  1,  3,  5,  7,  9,  6,  8, 10, 17, 19, 11, 13])}"
      ]
     },
     "execution_count": 27,
     "metadata": {},
     "output_type": "execute_result"
    }
   ],
   "source": [
    "primate_rapidnj_data = load_tree(primate_rapidnj_file, root=\"'Mouse'\")\n",
    "\n",
    "primate_rapidnj_data"
   ]
  },
  {
   "cell_type": "markdown",
   "id": "d0c8b225",
   "metadata": {},
   "source": [
    "### Advantages of phylo2vec package\n",
    "\n",
    "#### Sampling speed\n",
    "\n",
    "Example of a simple benchmark against ete3 and IQ-TREE.\n",
    "\n",
    "We use `timeit` for a simple benchmark of python commands.\n",
    "\n",
    "We use `time` inside of pixi to minimise overhead when calling `iqtree`. We use the `quiet` option to limit print messages. Note that this benchmark is an upper bound of the actual time due to I/O operations."
   ]
  },
  {
   "cell_type": "code",
   "execution_count": 28,
   "id": "af0028b3",
   "metadata": {},
   "outputs": [
    {
     "name": "stdout",
     "output_type": "stream",
     "text": [
      "485 μs ± 3.63 μs per loop (mean ± std. dev. of 7 runs, 1,000 loops each)\n",
      "25.7 ms ± 444 μs per loop (mean ± std. dev. of 7 runs, 10 loops each)\n",
      "524 μs ± 613 ns per loop (mean ± std. dev. of 7 runs, 1,000 loops each)\n",
      "\u001b[2K\u001b[32m⠁\u001b[0m activating environment                                                        0.01user 0.01system 0:00.03elapsed 96%CPU (0avgtext+0avgdata 16404maxresident)k\n",
      "0inputs+672outputs (0major+2458minor)pagefaults 0swaps\n"
     ]
    }
   ],
   "source": [
    "big_n = 10000\n",
    "# Sample a topology\n",
    "%timeit p2v.sample_vector(big_n)\n",
    "%timeit tr = Tree(); tr.populate(big_n)\n",
    "# Sample a topology with branch lengths\n",
    "%timeit p2v.sample_matrix(big_n)\n",
    "!pixi run -- time iqtree -ru 10000 10000.tree -redo --quiet"
   ]
  },
  {
   "attachments": {
    "image.png": {
     "image/png": "[encoded data removed]"
    }
   },
   "cell_type": "markdown",
   "id": "bcdf7503",
   "metadata": {},
   "source": [
    "![image.png](attachment:image.png)\n",
    "\n",
    "Sampling speed of phylo2vec and other libraries. Author: Neil Scheidwasser. Source: *Pandemic preparedness in a vector*, PhD thesis (in preparation, 2025). License: CC BY 4.0."
   ]
  },
  {
   "cell_type": "markdown",
   "id": "506f953a",
   "metadata": {},
   "source": [
    "#### Memory efficiency\n",
    "\n",
    "Example of a memory benchmark against the Newick-formatted outputs from IQ-TREE and rapidNJ.\n",
    "\n",
    "We use `sys.getsizeof` to evaluate the size of standard python objects, and the `nbytes` attribute to evaluate the size of NumPy array (the base for phylo2vec objects in Python)."
   ]
  },
  {
   "cell_type": "code",
   "execution_count": null,
   "id": "447a71ff",
   "metadata": {},
   "outputs": [
    {
     "name": "stdout",
     "output_type": "stream",
     "text": [
      "Newick with branch lengths:\n",
      "Newick = 445, P2V = 312\n",
      "Newick without branch lengths:\n",
      "Newick = 183, P2V = 104\n"
     ]
    }
   ],
   "source": [
    "import sys\n",
    "\n",
    "print(\n",
    "    f\"Newick with branch lengths:\\nNewick = {sys.getsizeof(primate_rapidnj_data['newick_str'])}, P2V = {primate_rapidnj_data['m'].nbytes}\"\n",
    ")\n",
    "print(\n",
    "    f\"Newick without branch lengths:\\nNewick = {sys.getsizeof(primate_iqtree_data['newick_str'])}, P2V = {primate_iqtree_data['v'].nbytes}\"\n",
    ")"
   ]
  },
  {
   "attachments": {
    "image.png": {
     "image/png": "[encoded data removed]"
    }
   },
   "cell_type": "markdown",
   "id": "c36c5661",
   "metadata": {},
   "source": [
    "![image.png](attachment:image.png)\n",
    "\n",
    "\n",
    "File size ratio 10,000 random tree topologies (resp. trees with branch lengths) with coronavirus taxa saved:\n",
    " * as a plain-text file (reference)\n",
    " * a hierarchical data format (HDF) file containing the trees as an array of phylo2vec vectors (resp. matrices) + and a mapping of taxon-to-integer labels\n",
    " \n",
    "Figure source: *Pandemic preparedness in a vector*, PhD thesis (in preparation, 2025). Author: Neil Scheidwasser. License: CC BY 4.0."
   ]
  }
 ],
 "metadata": {
  "kernelspec": {
   "display_name": "Python 3 (ipykernel)",
   "language": "python",
   "name": "python3"
  },
  "language_info": {
   "codemirror_mode": {
    "name": "ipython",
    "version": 3
   },
   "file_extension": ".py",
   "mimetype": "text/x-python",
   "name": "python",
   "nbconvert_exporter": "python",
   "pygments_lexer": "ipython3",
   "version": "3.11.13"
  }
 },
 "nbformat": 4,
 "nbformat_minor": 5
}
