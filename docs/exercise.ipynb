{
 "cells": [
  {
   "cell_type": "markdown",
   "id": "8d3a7f58",
   "metadata": {},
   "source": [
    "# Exercises"
   ]
  },
  {
   "cell_type": "markdown",
   "id": "ad73f3ce",
   "metadata": {},
   "source": [
    "The aim of these exercises is for you to derive simple functions based on phylo2vec definitions and functions we saw in the tutorial. You will also learn how to test the validity and benchmark the efficiency of your implementations using `pytest` and `pytest-benchmark`, respectively."
   ]
  },
  {
   "cell_type": "markdown",
   "id": "3b7301b4",
   "metadata": {},
   "source": [
    "## Imports"
   ]
  },
  {
   "cell_type": "code",
   "execution_count": 1,
   "id": "c099b676",
   "metadata": {},
   "outputs": [],
   "source": [
    "import os\n",
    "\n",
    "import numpy as np\n",
    "import phylo2vec as p2v\n",
    "\n",
    "os.chdir(\"../\")\n",
    "\n",
    "bench_dir = \"src/benchmarks\"\n",
    "test_dir = \"src/tests\""
   ]
  },
  {
   "cell_type": "markdown",
   "id": "4840a054",
   "metadata": {},
   "source": [
    "## Testing with `pytest`\n",
    "\n",
    "The `pytest` framework makes it easy to write small, readable tests for Python applications and libraries.\n",
    "\n",
    "We have already added the package to our repository via `pixi add pytest`.\n",
    "\n",
    "To write a test, create a python file starting with `test_`. Define test functions starting with `test_`.\n",
    "\n",
    "See the example below of `tests/test_example.py`:"
   ]
  },
  {
   "cell_type": "code",
   "execution_count": 2,
   "id": "53dde8bf",
   "metadata": {},
   "outputs": [
    {
     "data": {
      "text/markdown": [
       "\n",
       "```python\n",
       "import numpy as np\n",
       "import phylo2vec as p2v\n",
       "import pytest\n",
       "\n",
       "from src.example import fibonacci\n",
       "\n",
       "\n",
       "# Test function for `fibonacci`\n",
       "def test_fibonacci():\n",
       "    assert fibonacci(10) == 55\n",
       "    assert fibonacci(20) == 6765\n",
       "    assert fibonacci(30) == 832040\n",
       "\n",
       "\n",
       "# Test function for `fibonacci`\n",
       "def test_fail_fibonacci():\n",
       "    assert fibonacci(10) == 54  # This test is expected to fail\n",
       "\n",
       "\n",
       "@pytest.mark.parametrize(\"n_leaves\", range(5, 50))\n",
       "def test_from_and_to_newick(n_leaves):\n",
       "    v = p2v.sample_vector(n_leaves)\n",
       "    newick = p2v.to_newick(v)\n",
       "    v2 = p2v.from_newick(newick)\n",
       "    assert np.array_equal(v, v2)\n",
       "\n",
       "```\n"
      ],
      "text/plain": [
       "<IPython.core.display.Markdown object>"
      ]
     },
     "execution_count": 2,
     "metadata": {},
     "output_type": "execute_result"
    }
   ],
   "source": [
    "from IPython.display import Markdown\n",
    "\n",
    "# Read the file and display in markdown\n",
    "with open(f'{test_dir}/test_example.py', 'r') as f:\n",
    "    benchmark_content = f.read()\n",
    "\n",
    "Markdown(\n",
    "f\"\"\"\n",
    "```python\n",
    "{benchmark_content}\n",
    "```\n",
    "\"\"\"\n",
    ")"
   ]
  },
  {
   "cell_type": "markdown",
   "id": "94773fb4",
   "metadata": {},
   "source": [
    "To run tests, simply run: "
   ]
  },
  {
   "cell_type": "code",
   "execution_count": 3,
   "id": "b52c983f",
   "metadata": {},
   "outputs": [
    {
     "name": "stdout",
     "output_type": "stream",
     "text": [
      "\u001b[2K\u001b[32m⠁\u001b[0m activating environment                                                        \u001b[1m============================= test session starts ==============================\u001b[0m\n",
      "platform linux -- Python 3.11.13, pytest-8.4.2, pluggy-1.6.0 -- /workspaces/phylo2vec-workshop/.pixi/envs/default/bin/python3.11\n",
      "cachedir: .pytest_cache\n",
      "benchmark: 5.1.0 (defaults: timer=time.perf_counter disable_gc=False min_rounds=5 min_time=0.000005 max_time=1.0 calibration_precision=10 warmup=False warmup_iterations=100000)\n",
      "rootdir: /workspaces/phylo2vec-workshop\n",
      "plugins: benchmark-5.1.0, anyio-4.10.0\n",
      "collected 47 items                                                             \u001b[0m\n",
      "\n",
      "src/tests/test_example.py::test_fibonacci \u001b[32mPASSED\u001b[0m\u001b[33m                         [  2%]\u001b[0m\n",
      "src/tests/test_example.py::test_fail_fibonacci \u001b[31mFAILED\u001b[0m\u001b[31m                    [  4%]\u001b[0m\n",
      "src/tests/test_example.py::test_from_and_to_newick[5] \u001b[32mPASSED\u001b[0m\u001b[31m             [  6%]\u001b[0m\n",
      "src/tests/test_example.py::test_from_and_to_newick[6] \u001b[32mPASSED\u001b[0m\u001b[31m             [  8%]\u001b[0m\n",
      "src/tests/test_example.py::test_from_and_to_newick[7] \u001b[32mPASSED\u001b[0m\u001b[31m             [ 10%]\u001b[0m\n",
      "src/tests/test_example.py::test_from_and_to_newick[8] \u001b[32mPASSED\u001b[0m\u001b[31m             [ 12%]\u001b[0m\n",
      "src/tests/test_example.py::test_from_and_to_newick[9] \u001b[32mPASSED\u001b[0m\u001b[31m             [ 14%]\u001b[0m\n",
      "src/tests/test_example.py::test_from_and_to_newick[10] \u001b[32mPASSED\u001b[0m\u001b[31m            [ 17%]\u001b[0m\n",
      "src/tests/test_example.py::test_from_and_to_newick[11] \u001b[32mPASSED\u001b[0m\u001b[31m            [ 19%]\u001b[0m\n",
      "src/tests/test_example.py::test_from_and_to_newick[12] \u001b[32mPASSED\u001b[0m\u001b[31m            [ 21%]\u001b[0m\n",
      "src/tests/test_example.py::test_from_and_to_newick[13] \u001b[32mPASSED\u001b[0m\u001b[31m            [ 23%]\u001b[0m\n",
      "src/tests/test_example.py::test_from_and_to_newick[14] \u001b[32mPASSED\u001b[0m\u001b[31m            [ 25%]\u001b[0m\n",
      "src/tests/test_example.py::test_from_and_to_newick[15] \u001b[32mPASSED\u001b[0m\u001b[31m            [ 27%]\u001b[0m\n",
      "src/tests/test_example.py::test_from_and_to_newick[16] \u001b[32mPASSED\u001b[0m\u001b[31m            [ 29%]\u001b[0m\n",
      "src/tests/test_example.py::test_from_and_to_newick[17] \u001b[32mPASSED\u001b[0m\u001b[31m            [ 31%]\u001b[0m\n",
      "src/tests/test_example.py::test_from_and_to_newick[18] \u001b[32mPASSED\u001b[0m\u001b[31m            [ 34%]\u001b[0m\n",
      "src/tests/test_example.py::test_from_and_to_newick[19] \u001b[32mPASSED\u001b[0m\u001b[31m            [ 36%]\u001b[0m\n",
      "src/tests/test_example.py::test_from_and_to_newick[20] \u001b[32mPASSED\u001b[0m\u001b[31m            [ 38%]\u001b[0m\n",
      "src/tests/test_example.py::test_from_and_to_newick[21] \u001b[32mPASSED\u001b[0m\u001b[31m            [ 40%]\u001b[0m\n",
      "src/tests/test_example.py::test_from_and_to_newick[22] \u001b[32mPASSED\u001b[0m\u001b[31m            [ 42%]\u001b[0m\n",
      "src/tests/test_example.py::test_from_and_to_newick[23] \u001b[32mPASSED\u001b[0m\u001b[31m            [ 44%]\u001b[0m\n",
      "src/tests/test_example.py::test_from_and_to_newick[24] \u001b[32mPASSED\u001b[0m\u001b[31m            [ 46%]\u001b[0m\n",
      "src/tests/test_example.py::test_from_and_to_newick[25] \u001b[32mPASSED\u001b[0m\u001b[31m            [ 48%]\u001b[0m\n",
      "src/tests/test_example.py::test_from_and_to_newick[26] \u001b[32mPASSED\u001b[0m\u001b[31m            [ 51%]\u001b[0m\n",
      "src/tests/test_example.py::test_from_and_to_newick[27] \u001b[32mPASSED\u001b[0m\u001b[31m            [ 53%]\u001b[0m\n",
      "src/tests/test_example.py::test_from_and_to_newick[28] \u001b[32mPASSED\u001b[0m\u001b[31m            [ 55%]\u001b[0m\n",
      "src/tests/test_example.py::test_from_and_to_newick[29] \u001b[32mPASSED\u001b[0m\u001b[31m            [ 57%]\u001b[0m\n",
      "src/tests/test_example.py::test_from_and_to_newick[30] \u001b[32mPASSED\u001b[0m\u001b[31m            [ 59%]\u001b[0m\n",
      "src/tests/test_example.py::test_from_and_to_newick[31] \u001b[32mPASSED\u001b[0m\u001b[31m            [ 61%]\u001b[0m\n",
      "src/tests/test_example.py::test_from_and_to_newick[32] \u001b[32mPASSED\u001b[0m\u001b[31m            [ 63%]\u001b[0m\n",
      "src/tests/test_example.py::test_from_and_to_newick[33] \u001b[32mPASSED\u001b[0m\u001b[31m            [ 65%]\u001b[0m\n",
      "src/tests/test_example.py::test_from_and_to_newick[34] \u001b[32mPASSED\u001b[0m\u001b[31m            [ 68%]\u001b[0m\n",
      "src/tests/test_example.py::test_from_and_to_newick[35] \u001b[32mPASSED\u001b[0m\u001b[31m            [ 70%]\u001b[0m\n",
      "src/tests/test_example.py::test_from_and_to_newick[36] \u001b[32mPASSED\u001b[0m\u001b[31m            [ 72%]\u001b[0m\n",
      "src/tests/test_example.py::test_from_and_to_newick[37] \u001b[32mPASSED\u001b[0m\u001b[31m            [ 74%]\u001b[0m\n",
      "src/tests/test_example.py::test_from_and_to_newick[38] \u001b[32mPASSED\u001b[0m\u001b[31m            [ 76%]\u001b[0m\n",
      "src/tests/test_example.py::test_from_and_to_newick[39] \u001b[32mPASSED\u001b[0m\u001b[31m            [ 78%]\u001b[0m\n",
      "src/tests/test_example.py::test_from_and_to_newick[40] \u001b[32mPASSED\u001b[0m\u001b[31m            [ 80%]\u001b[0m\n",
      "src/tests/test_example.py::test_from_and_to_newick[41] \u001b[32mPASSED\u001b[0m\u001b[31m            [ 82%]\u001b[0m\n",
      "src/tests/test_example.py::test_from_and_to_newick[42] \u001b[32mPASSED\u001b[0m\u001b[31m            [ 85%]\u001b[0m\n",
      "src/tests/test_example.py::test_from_and_to_newick[43] \u001b[32mPASSED\u001b[0m\u001b[31m            [ 87%]\u001b[0m\n",
      "src/tests/test_example.py::test_from_and_to_newick[44] \u001b[32mPASSED\u001b[0m\u001b[31m            [ 89%]\u001b[0m\n",
      "src/tests/test_example.py::test_from_and_to_newick[45] \u001b[32mPASSED\u001b[0m\u001b[31m            [ 91%]\u001b[0m\n",
      "src/tests/test_example.py::test_from_and_to_newick[46] \u001b[32mPASSED\u001b[0m\u001b[31m            [ 93%]\u001b[0m\n",
      "src/tests/test_example.py::test_from_and_to_newick[47] \u001b[32mPASSED\u001b[0m\u001b[31m            [ 95%]\u001b[0m\n",
      "src/tests/test_example.py::test_from_and_to_newick[48] \u001b[32mPASSED\u001b[0m\u001b[31m            [ 97%]\u001b[0m\n",
      "src/tests/test_example.py::test_from_and_to_newick[49] \u001b[32mPASSED\u001b[0m\u001b[31m            [100%]\u001b[0m\n",
      "\n",
      "=================================== FAILURES ===================================\n",
      "\u001b[31m\u001b[1m_____________________________ test_fail_fibonacci ______________________________\u001b[0m\n",
      "\n",
      "    \u001b[0m\u001b[94mdef\u001b[39;49;00m\u001b[90m \u001b[39;49;00m\u001b[92mtest_fail_fibonacci\u001b[39;49;00m():\u001b[90m\u001b[39;49;00m\n",
      ">       \u001b[94massert\u001b[39;49;00m fibonacci(\u001b[94m10\u001b[39;49;00m) == \u001b[94m54\u001b[39;49;00m  \u001b[90m# This test is expected to fail\u001b[39;49;00m\u001b[90m\u001b[39;49;00m\n",
      "        ^^^^^^^^^^^^^^^^^^^^^^^^^^\u001b[90m\u001b[39;49;00m\n",
      "\u001b[1m\u001b[31mE       assert 55 == 54\u001b[0m\n",
      "\u001b[1m\u001b[31mE        +  where 55 = fibonacci(10)\u001b[0m\n",
      "\n",
      "\u001b[1m\u001b[31msrc/tests/test_example.py\u001b[0m:17: AssertionError\n",
      "\u001b[33m=============================== warnings summary ===============================\u001b[0m\n",
      ".pixi/envs/default/lib/python3.11/site-packages/ete3/webplugin/webapp.py:44\n",
      "  /workspaces/phylo2vec-workshop/.pixi/envs/default/lib/python3.11/site-packages/ete3/webplugin/webapp.py:44: DeprecationWarning: 'cgi' is deprecated and slated for removal in Python 3.13\n",
      "    import cgi\n",
      "\n",
      "-- Docs: https://docs.pytest.org/en/stable/how-to/capture-warnings.html\n",
      "\u001b[36m\u001b[1m=========================== short test summary info ============================\u001b[0m\n",
      "\u001b[31mFAILED\u001b[0m src/tests/test_example.py::\u001b[1mtest_fail_fibonacci\u001b[0m - assert 55 == 54\n",
      "\u001b[31m=================== \u001b[31m\u001b[1m1 failed\u001b[0m, \u001b[32m46 passed\u001b[0m, \u001b[33m1 warning\u001b[0m\u001b[31m in 0.27s\u001b[0m\u001b[31m ====================\u001b[0m\n"
     ]
    }
   ],
   "source": [
    "!pixi run pytest $test_dir -v"
   ]
  },
  {
   "cell_type": "markdown",
   "id": "4c8d2068",
   "metadata": {},
   "source": [
    "`pytest` automatically discovers files and functions starting with `test_`. \n",
    "It will show a summary of passed and failed tests.\n",
    "\n",
    "The `-v` option is optional, but helps visualizing which tests passed/failed."
   ]
  },
  {
   "cell_type": "markdown",
   "id": "b11ea40a",
   "metadata": {},
   "source": [
    "## Benchmarking with pytest-benchmark"
   ]
  },
  {
   "cell_type": "markdown",
   "id": "9e6438fc",
   "metadata": {},
   "source": [
    "The `pytest-benchmark` is a package that integrates with `pytest` to measure and report performance of your code. It uses a similar syntax as `pytest` tests.\n",
    "\n",
    "We have already added the package to our repository via `pixi add pytest-benchmark`.\n",
    "\n",
    "To write a test, create a python file starting with `test_`. Define test functions starting with `test_`.\n",
    "\n",
    "See the example below of `src/benchmarks/test_bench.py`:"
   ]
  },
  {
   "cell_type": "code",
   "execution_count": 4,
   "id": "f80c2f6a",
   "metadata": {},
   "outputs": [
    {
     "data": {
      "text/markdown": [
       "\n",
       "```python\n",
       "\"\"\"Example benchmarks.\"\"\"\n",
       "\n",
       "import pytest\n",
       "\n",
       "import phylo2vec as p2v\n",
       "\n",
       "from src.example import fibonacci\n",
       "\n",
       "# 100, 200, ..., 900\n",
       "BENCHMARK_RANGE = range(100, 1000, 100)\n",
       "\n",
       "\n",
       "# Test the fibonacci function\n",
       "@pytest.mark.parametrize(\"sample_size\", BENCHMARK_RANGE)\n",
       "def test_fibonacci(benchmark, sample_size):\n",
       "    benchmark(fibonacci, sample_size)\n",
       "\n",
       "\n",
       "# Test the sample_vector function from phylo2vec\n",
       "@pytest.mark.parametrize(\"sample_size\", BENCHMARK_RANGE)\n",
       "def test_p2v_sample_vector(benchmark, sample_size):\n",
       "    benchmark(p2v.sample_vector, sample_size)\n",
       "\n",
       "```\n"
      ],
      "text/plain": [
       "<IPython.core.display.Markdown object>"
      ]
     },
     "execution_count": 4,
     "metadata": {},
     "output_type": "execute_result"
    }
   ],
   "source": [
    "# Read the file and display in markdown\n",
    "with open(f\"{bench_dir}/test_bench.py\", \"r\") as f:\n",
    "    benchmark_content = f.read()\n",
    "\n",
    "Markdown(\n",
    "    f\"\"\"\n",
    "```python\n",
    "{benchmark_content}\n",
    "```\n",
    "\"\"\"\n",
    ")"
   ]
  },
  {
   "cell_type": "markdown",
   "id": "ddd0a5f9",
   "metadata": {},
   "source": [
    "To run a benchmark, you can simply run:"
   ]
  },
  {
   "cell_type": "code",
   "execution_count": 5,
   "id": "ef580d01",
   "metadata": {},
   "outputs": [
    {
     "name": "stdout",
     "output_type": "stream",
     "text": [
      "\u001b[2K\u001b[32m⠁\u001b[0m activating environment                                                        \u001b[1m============================= test session starts ==============================\u001b[0m\n",
      "platform linux -- Python 3.11.13, pytest-8.4.2, pluggy-1.6.0\n",
      "benchmark: 5.1.0 (defaults: timer=time.perf_counter disable_gc=False min_rounds=5 min_time=0.000005 max_time=1.0 calibration_precision=10 warmup=False warmup_iterations=100000)\n",
      "rootdir: /workspaces/phylo2vec-workshop\n",
      "plugins: benchmark-5.1.0, anyio-4.10.0\n",
      "collected 18 items                                                             \u001b[0m\n",
      "\n",
      "src/benchmarks/test_bench.py \u001b[32m.\u001b[0m\u001b[32m.\u001b[0m\u001b[32m.\u001b[0m\u001b[32m.\u001b[0m\u001b[32m.\u001b[0m\u001b[32m.\u001b[0m\u001b[32m.\u001b[0m\u001b[32m.\u001b[0m\u001b[32m.\u001b[0m\u001b[32m.\u001b[0m\u001b[32m.\u001b[0m\u001b[32m.\u001b[0m\u001b[32m.\u001b[0m\u001b[32m.\u001b[0m\u001b[32m.\u001b[0m\u001b[32m.\u001b[0m\u001b[32m.\u001b[0m\u001b[32m.\u001b[0m\u001b[33m                          [100%]\u001b[0m\n",
      "\n",
      "\u001b[33m=============================== warnings summary ===============================\u001b[0m\n",
      ".pixi/envs/default/lib/python3.11/site-packages/ete3/webplugin/webapp.py:44\n",
      "  /workspaces/phylo2vec-workshop/.pixi/envs/default/lib/python3.11/site-packages/ete3/webplugin/webapp.py:44: DeprecationWarning: 'cgi' is deprecated and slated for removal in Python 3.13\n",
      "    import cgi\n",
      "\n",
      "-- Docs: https://docs.pytest.org/en/stable/how-to/capture-warnings.html\n",
      "\n",
      "\u001b[33m---------------------------------------------------------------------------------------------------- benchmark: 18 tests ----------------------------------------------------------------------------------------------------\u001b[0m\n",
      "Name (time in ns)                       Min                     Max                   Mean                StdDev                 Median                 IQR              Outliers  OPS (Kops/s)            Rounds  Iterations\n",
      "\u001b[33m-----------------------------------------------------------------------------------------------------------------------------------------------------------------------------------------------------------------------------\u001b[0m\n",
      "test_fibonacci[200]           \u001b[32m\u001b[1m     382.2500 (1.0)    \u001b[0m\u001b[1m    9,908.5000 (3.95)   \u001b[0m\u001b[32m\u001b[1m     433.4687 (1.0)    \u001b[0m\u001b[1m    110.3238 (1.88)   \u001b[0m\u001b[32m\u001b[1m     402.3000 (1.0)    \u001b[0m\u001b[1m    9.5000 (1.27)   \u001b[0m 10189;12944\u001b[32m\u001b[1m    2,306.9718 (1.0)    \u001b[0m  112778          20\n",
      "test_fibonacci[300]           \u001b[1m     389.7000 (1.02)   \u001b[0m\u001b[1m   22,234.4500 (8.87)   \u001b[0m\u001b[1m     435.9270 (1.01)   \u001b[0m\u001b[1m    117.3388 (2.00)   \u001b[0m\u001b[1m     409.2500 (1.02)   \u001b[0m\u001b[1m    9.0000 (1.20)   \u001b[0m  8525;11109\u001b[1m    2,293.9620 (0.99)   \u001b[0m  111645          20\n",
      "test_fibonacci[400]           \u001b[1m     412.2500 (1.08)   \u001b[0m\u001b[1m   73,262.0500 (29.24)  \u001b[0m\u001b[1m     477.7996 (1.10)   \u001b[0m\u001b[1m    254.8987 (4.35)   \u001b[0m\u001b[1m     430.8000 (1.07)   \u001b[0m\u001b[1m    9.9999 (1.33)   \u001b[0m  6723;17333\u001b[1m    2,092.9274 (0.91)   \u001b[0m  107666          20\n",
      "test_fibonacci[500]           \u001b[1m     422.3000 (1.10)   \u001b[0m\u001b[32m\u001b[1m    2,505.6500 (1.0)    \u001b[0m\u001b[1m     448.9827 (1.04)   \u001b[0m\u001b[32m\u001b[1m     58.5759 (1.0)    \u001b[0m\u001b[1m     438.8500 (1.09)   \u001b[0m\u001b[32m\u001b[1m    7.5000 (1.0)    \u001b[0m   3766;5593\u001b[1m    2,227.2574 (0.97)   \u001b[0m  107666          20\n",
      "test_fibonacci[600]           \u001b[1m     433.8000 (1.13)   \u001b[0m\u001b[1m    3,382.9500 (1.35)   \u001b[0m\u001b[1m     484.9448 (1.12)   \u001b[0m\u001b[1m    110.8138 (1.89)   \u001b[0m\u001b[1m     451.8500 (1.12)   \u001b[0m\u001b[1m    9.0000 (1.20)   \u001b[0m  9742;12439\u001b[1m    2,062.0903 (0.89)   \u001b[0m  104954          20\n",
      "test_fibonacci[100]           \u001b[1m     439.9999 (1.15)   \u001b[0m\u001b[1m   43,991.9995 (17.56)  \u001b[0m\u001b[1m     508.4703 (1.17)   \u001b[0m\u001b[1m    369.6834 (6.31)   \u001b[0m\u001b[1m     461.0001 (1.15)   \u001b[0m\u001b[1m   21.0002 (2.80)   \u001b[0m  3386;10442\u001b[1m    1,966.6832 (0.85)   \u001b[0m  126040           1\n",
      "test_fibonacci[700]           \u001b[1m     453.3500 (1.19)   \u001b[0m\u001b[1m    2,786.7000 (1.11)   \u001b[0m\u001b[1m     501.1224 (1.16)   \u001b[0m\u001b[1m    103.8136 (1.77)   \u001b[0m\u001b[1m     471.3500 (1.17)   \u001b[0m\u001b[1m    8.5500 (1.14)   \u001b[0m  8655;11284\u001b[1m    1,995.5203 (0.86)   \u001b[0m  101236          20\n",
      "test_fibonacci[800]           \u001b[1m     465.8500 (1.22)   \u001b[0m\u001b[1m   15,560.5500 (6.21)   \u001b[0m\u001b[1m     530.3421 (1.22)   \u001b[0m\u001b[1m    138.9651 (2.37)   \u001b[0m\u001b[1m     485.4000 (1.21)   \u001b[0m\u001b[1m    9.5000 (1.27)   \u001b[0m 13520;16030\u001b[1m    1,885.5754 (0.82)   \u001b[0m   99911          20\n",
      "test_fibonacci[900]           \u001b[1m     531.0003 (1.39)   \u001b[0m\u001b[1m   48,119.9995 (19.20)  \u001b[0m\u001b[1m     702.6036 (1.62)   \u001b[0m\u001b[1m    506.6704 (8.65)   \u001b[0m\u001b[1m     572.0003 (1.42)   \u001b[0m\u001b[1m   60.0003 (8.00)   \u001b[0m  4385;26263\u001b[1m    1,423.2776 (0.62)   \u001b[0m  119977           1\n",
      "test_p2v_sample_vector[100]   \u001b[1m   5,769.9999 (15.09)  \u001b[0m\u001b[1m   51,265.9999 (20.46)  \u001b[0m\u001b[1m   7,273.0330 (16.78)  \u001b[0m\u001b[1m  2,350.3239 (40.12)  \u001b[0m\u001b[1m   6,301.9997 (15.66)  \u001b[0m\u001b[1m  290.0006 (38.67)  \u001b[0m   2168;2451\u001b[1m      137.4942 (0.06)   \u001b[0m   11139           1\n",
      "test_p2v_sample_vector[200]   \u001b[1m  11,271.0004 (29.49)  \u001b[0m\u001b[1m   54,582.0003 (21.78)  \u001b[0m\u001b[1m  13,192.1766 (30.43)  \u001b[0m\u001b[1m  3,108.3485 (53.07)  \u001b[0m\u001b[1m  12,033.0005 (29.91)  \u001b[0m\u001b[1m  341.0005 (45.47)  \u001b[0m   4294;5496\u001b[1m       75.8025 (0.03)   \u001b[0m   32157           1\n",
      "test_p2v_sample_vector[300]   \u001b[1m  17,441.9993 (45.63)  \u001b[0m\u001b[1m   56,545.9995 (22.57)  \u001b[0m\u001b[1m  19,134.5051 (44.14)  \u001b[0m\u001b[1m  3,070.7591 (52.42)  \u001b[0m\u001b[1m  18,334.0007 (45.57)  \u001b[0m\u001b[1m  381.0001 (50.80)  \u001b[0m   1082;1735\u001b[1m       52.2616 (0.02)   \u001b[0m   16434           1\n",
      "test_p2v_sample_vector[400]   \u001b[1m  23,644.0001 (61.85)  \u001b[0m\u001b[1m   64,298.9999 (25.66)  \u001b[0m\u001b[1m  25,554.7083 (58.95)  \u001b[0m\u001b[1m  3,401.3163 (58.07)  \u001b[0m\u001b[1m  24,725.9995 (61.46)  \u001b[0m\u001b[1m  450.0007 (60.00)  \u001b[0m   1270;2012\u001b[1m       39.1317 (0.02)   \u001b[0m   21023           1\n",
      "test_p2v_sample_vector[500]   \u001b[1m  29,525.0002 (77.24)  \u001b[0m\u001b[1m   79,417.9996 (31.70)  \u001b[0m\u001b[1m  31,320.9925 (72.26)  \u001b[0m\u001b[1m  3,499.1136 (59.74)  \u001b[0m\u001b[1m  30,526.0000 (75.88)  \u001b[0m\u001b[1m  512.0010 (68.27)  \u001b[0m    811;1258\u001b[1m       31.9275 (0.01)   \u001b[0m   14610           1\n",
      "test_p2v_sample_vector[600]   \u001b[1m  35,746.9999 (93.52)  \u001b[0m\u001b[1m   83,648.9999 (33.38)  \u001b[0m\u001b[1m  37,774.1198 (87.14)  \u001b[0m\u001b[1m  3,312.6795 (56.55)  \u001b[0m\u001b[1m  36,988.9995 (91.94)  \u001b[0m\u001b[1m  610.9995 (81.47)  \u001b[0m   1200;1682\u001b[1m       26.4732 (0.01)   \u001b[0m   19598           1\n",
      "test_p2v_sample_vector[700]   \u001b[1m  41,817.9998 (109.40) \u001b[0m\u001b[1m  111,127.0003 (44.35)  \u001b[0m\u001b[1m  45,535.0322 (105.05) \u001b[0m\u001b[1m  6,993.2364 (119.39) \u001b[0m\u001b[1m  43,400.9999 (107.88) \u001b[0m\u001b[31m\u001b[1m  900.9998 (120.13) \u001b[0m   1420;2292\u001b[1m       21.9611 (0.01)   \u001b[0m   18251           1\n",
      "test_p2v_sample_vector[800]   \u001b[1m  47,708.9998 (124.81) \u001b[0m\u001b[31m\u001b[1m  125,945.0000 (50.26)  \u001b[0m\u001b[1m  51,593.4772 (119.02) \u001b[0m\u001b[31m\u001b[1m  7,911.5503 (135.06) \u001b[0m\u001b[1m  49,151.0000 (122.17) \u001b[0m\u001b[1m  841.0007 (112.13) \u001b[0m   1147;2042\u001b[1m       19.3823 (0.01)   \u001b[0m   15889           1\n",
      "test_p2v_sample_vector[900]   \u001b[31m\u001b[1m  53,167.9998 (139.09) \u001b[0m\u001b[1m  114,212.9995 (45.58)  \u001b[0m\u001b[31m\u001b[1m  55,896.6661 (128.95) \u001b[0m\u001b[1m  4,774.5360 (81.51)  \u001b[0m\u001b[31m\u001b[1m  54,782.9995 (136.17) \u001b[0m\u001b[1m  791.0003 (105.47) \u001b[0m   1053;1319\u001b[31m\u001b[1m       17.8902 (0.01)   \u001b[0m   14009           1\n",
      "\u001b[33m-----------------------------------------------------------------------------------------------------------------------------------------------------------------------------------------------------------------------------\u001b[0m\n",
      "\n",
      "Legend:\n",
      "  Outliers: 1 Standard Deviation from Mean; 1.5 IQR (InterQuartile Range) from 1st Quartile and 3rd Quartile.\n",
      "  OPS: Operations Per Second, computed as 1 / Mean\n",
      "\u001b[33m======================== \u001b[32m18 passed\u001b[0m, \u001b[33m\u001b[1m1 warning\u001b[0m\u001b[33m in 15.14s\u001b[0m\u001b[33m ========================\u001b[0m\n"
     ]
    }
   ],
   "source": [
    "!pixi run pytest $bench_dir"
   ]
  },
  {
   "cell_type": "markdown",
   "id": "97fe3a33",
   "metadata": {},
   "source": [
    "To save results, you can use the `--benchmark-autosave` option"
   ]
  },
  {
   "cell_type": "code",
   "execution_count": 6,
   "id": "d7b780da",
   "metadata": {},
   "outputs": [
    {
     "name": "stdout",
     "output_type": "stream",
     "text": [
      "\u001b[2K\u001b[32m⠁\u001b[0m activating environment                                                        \u001b[1m============================= test session starts ==============================\u001b[0m\n",
      "platform linux -- Python 3.11.13, pytest-8.4.2, pluggy-1.6.0\n",
      "benchmark: 5.1.0 (defaults: timer=time.perf_counter disable_gc=False min_rounds=5 min_time=0.000005 max_time=1.0 calibration_precision=10 warmup=False warmup_iterations=100000)\n",
      "rootdir: /workspaces/phylo2vec-workshop\n",
      "plugins: benchmark-5.1.0, anyio-4.10.0\n",
      "collected 18 items                                                             \u001b[0m\n",
      "\n",
      "src/benchmarks/test_bench.py \u001b[32m.\u001b[0m\u001b[32m.\u001b[0m\u001b[32m.\u001b[0m\u001b[32m.\u001b[0m\u001b[32m.\u001b[0m\u001b[32m.\u001b[0m\u001b[32m.\u001b[0m\u001b[32m.\u001b[0m\u001b[32m.\u001b[0m\u001b[32m.\u001b[0m\u001b[32m.\u001b[0m\u001b[32m.\u001b[0m\u001b[32m.\u001b[0m\u001b[32m.\u001b[0m\u001b[32m.\u001b[0m\u001b[32m.\u001b[0m\u001b[32m.\u001b[0m\u001b[32m.\u001b[0m\u001b[33m                          [100%]\u001b[0m\n",
      "\u001b[35mSaved benchmark data in: /workspaces/phylo2vec-workshop/.benchmarks/Linux-CPython-3.11-64bit/0002_c5d0e011fb6e64de7b82770013bbea31d824a8e9_20250916_214206_uncommited-changes.json\u001b[0m\n",
      "\n",
      "\n",
      "\u001b[33m=============================== warnings summary ===============================\u001b[0m\n",
      ".pixi/envs/default/lib/python3.11/site-packages/ete3/webplugin/webapp.py:44\n",
      "  /workspaces/phylo2vec-workshop/.pixi/envs/default/lib/python3.11/site-packages/ete3/webplugin/webapp.py:44: DeprecationWarning: 'cgi' is deprecated and slated for removal in Python 3.13\n",
      "    import cgi\n",
      "\n",
      "-- Docs: https://docs.pytest.org/en/stable/how-to/capture-warnings.html\n",
      "\n",
      "\u001b[33m---------------------------------------------------------------------------------------------------- benchmark: 18 tests -----------------------------------------------------------------------------------------------------\u001b[0m\n",
      "Name (time in ns)                       Min                     Max                   Mean                StdDev                 Median                   IQR             Outliers  OPS (Kops/s)            Rounds  Iterations\n",
      "\u001b[33m------------------------------------------------------------------------------------------------------------------------------------------------------------------------------------------------------------------------------\u001b[0m\n",
      "test_fibonacci[200]           \u001b[32m\u001b[1m     383.2000 (1.0)    \u001b[0m\u001b[1m    5,487.7500 (2.39)   \u001b[0m\u001b[32m\u001b[1m     434.4212 (1.0)    \u001b[0m\u001b[1m    107.5064 (1.31)   \u001b[0m\u001b[32m\u001b[1m     402.7500 (1.0)    \u001b[0m\u001b[1m      9.5500 (1.19)   \u001b[0m11337;14001\u001b[32m\u001b[1m    2,301.9134 (1.0)    \u001b[0m  118822          20\n",
      "test_fibonacci[300]           \u001b[1m     389.7500 (1.02)   \u001b[0m\u001b[1m    3,060.2000 (1.34)   \u001b[0m\u001b[1m     449.2870 (1.03)   \u001b[0m\u001b[1m    119.7369 (1.46)   \u001b[0m\u001b[1m     409.2500 (1.02)   \u001b[0m\u001b[1m      9.5000 (1.19)   \u001b[0m13700;16135\u001b[1m    2,225.7490 (0.97)   \u001b[0m  118977          20\n",
      "test_fibonacci[400]           \u001b[1m     409.7500 (1.07)   \u001b[0m\u001b[1m    2,715.1000 (1.18)   \u001b[0m\u001b[1m     468.8582 (1.08)   \u001b[0m\u001b[1m    119.4249 (1.46)   \u001b[0m\u001b[1m     428.3000 (1.06)   \u001b[0m\u001b[1m      9.0000 (1.12)   \u001b[0m13061;15452\u001b[1m    2,132.8411 (0.93)   \u001b[0m  108850          20\n",
      "test_fibonacci[600]           \u001b[1m     433.3000 (1.13)   \u001b[0m\u001b[1m    3,652.3000 (1.59)   \u001b[0m\u001b[1m     469.5002 (1.08)   \u001b[0m\u001b[32m\u001b[1m     81.8914 (1.0)    \u001b[0m\u001b[1m     451.8500 (1.12)   \u001b[0m\u001b[1m      8.0500 (1.01)   \u001b[0m  5466;7642\u001b[1m    2,129.9246 (0.93)   \u001b[0m  106417          20\n",
      "test_fibonacci[100]           \u001b[1m     439.9999 (1.15)   \u001b[0m\u001b[1m   99,676.0000 (43.49)  \u001b[0m\u001b[1m     524.8717 (1.21)   \u001b[0m\u001b[1m    473.2371 (5.78)   \u001b[0m\u001b[1m     471.0000 (1.17)   \u001b[0m\u001b[1m     29.9997 (3.75)   \u001b[0m  2976;9641\u001b[1m    1,905.2275 (0.83)   \u001b[0m  118695           1\n",
      "test_fibonacci[700]           \u001b[1m     455.8500 (1.19)   \u001b[0m\u001b[1m  106,743.5000 (46.57)  \u001b[0m\u001b[1m     558.4633 (1.29)   \u001b[0m\u001b[1m    442.0954 (5.40)   \u001b[0m\u001b[1m     474.3500 (1.18)   \u001b[0m\u001b[1m    117.7000 (14.71)  \u001b[0m  815;15726\u001b[1m    1,790.6280 (0.78)   \u001b[0m  100919          20\n",
      "test_fibonacci[800]           \u001b[1m     465.3500 (1.21)   \u001b[0m\u001b[32m\u001b[1m    2,291.9000 (1.0)    \u001b[0m\u001b[1m     501.4572 (1.15)   \u001b[0m\u001b[1m     85.8540 (1.05)   \u001b[0m\u001b[1m     482.9000 (1.20)   \u001b[0m\u001b[32m\u001b[1m      8.0000 (1.0)    \u001b[0m  3620;5271\u001b[1m    1,994.1883 (0.87)   \u001b[0m   72015          20\n",
      "test_fibonacci[900]           \u001b[1m     475.4000 (1.24)   \u001b[0m\u001b[1m    2,339.3500 (1.02)   \u001b[0m\u001b[1m     518.7727 (1.19)   \u001b[0m\u001b[1m     98.3800 (1.20)   \u001b[0m\u001b[1m     493.9000 (1.23)   \u001b[0m\u001b[1m      8.5000 (1.06)   \u001b[0m  6677;8913\u001b[1m    1,927.6265 (0.84)   \u001b[0m   96442          20\n",
      "test_fibonacci[500]           \u001b[1m     489.9994 (1.28)   \u001b[0m\u001b[1m   52,227.0002 (22.79)  \u001b[0m\u001b[1m     750.7442 (1.73)   \u001b[0m\u001b[1m    555.9586 (6.79)   \u001b[0m\u001b[1m     570.9999 (1.42)   \u001b[0m\u001b[1m    421.0005 (52.63)  \u001b[0m   2573;679\u001b[1m    1,332.0116 (0.58)   \u001b[0m   73497           1\n",
      "test_p2v_sample_vector[100]   \u001b[1m   5,881.0001 (15.35)  \u001b[0m\u001b[1m   49,983.0003 (21.81)  \u001b[0m\u001b[1m   7,571.1856 (17.43)  \u001b[0m\u001b[1m  2,467.1965 (30.13)  \u001b[0m\u001b[1m   6,391.9997 (15.87)  \u001b[0m\u001b[31m\u001b[1m  1,354.5000 (169.31) \u001b[0m  3042;3155\u001b[1m      132.0797 (0.06)   \u001b[0m   13337           1\n",
      "test_p2v_sample_vector[200]   \u001b[1m  11,481.9995 (29.96)  \u001b[0m\u001b[1m   45,244.9995 (19.74)  \u001b[0m\u001b[1m  14,078.5847 (32.41)  \u001b[0m\u001b[1m  3,883.9567 (47.43)  \u001b[0m\u001b[1m  12,202.9996 (30.30)  \u001b[0m\u001b[1m    811.9996 (101.50) \u001b[0m  5799;6193\u001b[1m       71.0299 (0.03)   \u001b[0m   27573           1\n",
      "test_p2v_sample_vector[300]   \u001b[1m  17,692.9998 (46.17)  \u001b[0m\u001b[1m   60,022.0001 (26.19)  \u001b[0m\u001b[1m  19,240.9226 (44.29)  \u001b[0m\u001b[1m  2,658.5263 (32.46)  \u001b[0m\u001b[1m  18,624.9999 (46.24)  \u001b[0m\u001b[1m    371.9997 (46.50)  \u001b[0m  1924;3546\u001b[1m       51.9726 (0.02)   \u001b[0m   36750           1\n",
      "test_p2v_sample_vector[400]   \u001b[1m  24,144.9998 (63.01)  \u001b[0m\u001b[1m   68,907.9998 (30.07)  \u001b[0m\u001b[1m  27,009.2678 (62.17)  \u001b[0m\u001b[1m  5,178.9016 (63.24)  \u001b[0m\u001b[1m  25,187.0006 (62.54)  \u001b[0m\u001b[1m    570.0003 (71.25)  \u001b[0m  2159;2712\u001b[1m       37.0243 (0.02)   \u001b[0m   18869           1\n",
      "test_p2v_sample_vector[500]   \u001b[1m  29,836.0001 (77.86)  \u001b[0m\u001b[1m   81,041.0002 (35.36)  \u001b[0m\u001b[1m  32,351.1328 (74.47)  \u001b[0m\u001b[1m  4,642.7613 (56.69)  \u001b[0m\u001b[1m  31,038.0001 (77.07)  \u001b[0m\u001b[1m    580.0002 (72.50)  \u001b[0m  1843;2441\u001b[1m       30.9108 (0.01)   \u001b[0m   22763           1\n",
      "test_p2v_sample_vector[600]   \u001b[1m  36,327.9996 (94.80)  \u001b[0m\u001b[31m\u001b[1m  779,402.9998 (340.07) \u001b[0m\u001b[1m  39,409.7790 (90.72)  \u001b[0m\u001b[1m  8,083.2200 (98.71)  \u001b[0m\u001b[1m  37,649.9993 (93.48)  \u001b[0m\u001b[1m    682.0001 (85.25)  \u001b[0m  1154;2047\u001b[1m       25.3744 (0.01)   \u001b[0m   18766           1\n",
      "test_p2v_sample_vector[700]   \u001b[1m  42,167.9997 (110.04) \u001b[0m\u001b[1m  107,921.0006 (47.09)  \u001b[0m\u001b[1m  46,003.2612 (105.90) \u001b[0m\u001b[1m  6,519.6108 (79.61)  \u001b[0m\u001b[1m  44,092.9998 (109.48) \u001b[0m\u001b[1m    801.0002 (100.12) \u001b[0m  1159;1913\u001b[1m       21.7376 (0.01)   \u001b[0m   15976           1\n",
      "test_p2v_sample_vector[800]   \u001b[1m  48,660.9997 (126.99) \u001b[0m\u001b[1m  109,102.9999 (47.60)  \u001b[0m\u001b[1m  52,922.3153 (121.82) \u001b[0m\u001b[31m\u001b[1m  8,304.0366 (101.40) \u001b[0m\u001b[1m  50,402.9999 (125.15) \u001b[0m\u001b[1m    992.4997 (124.06) \u001b[0m  1116;1942\u001b[1m       18.8956 (0.01)   \u001b[0m   15356           1\n",
      "test_p2v_sample_vector[900]   \u001b[31m\u001b[1m  54,280.9994 (141.65) \u001b[0m\u001b[1m  129,662.0003 (56.57)  \u001b[0m\u001b[31m\u001b[1m  57,057.8936 (131.34) \u001b[0m\u001b[1m  4,878.0978 (59.57)  \u001b[0m\u001b[31m\u001b[1m  55,884.0002 (138.76) \u001b[0m\u001b[1m    803.0001 (100.37) \u001b[0m    730;922\u001b[31m\u001b[1m       17.5261 (0.01)   \u001b[0m    9451           1\n",
      "\u001b[33m------------------------------------------------------------------------------------------------------------------------------------------------------------------------------------------------------------------------------\u001b[0m\n",
      "\n",
      "Legend:\n",
      "  Outliers: 1 Standard Deviation from Mean; 1.5 IQR (InterQuartile Range) from 1st Quartile and 3rd Quartile.\n",
      "  OPS: Operations Per Second, computed as 1 / Mean\n",
      "\u001b[33m======================== \u001b[32m18 passed\u001b[0m, \u001b[33m\u001b[1m1 warning\u001b[0m\u001b[33m in 16.50s\u001b[0m\u001b[33m ========================\u001b[0m\n"
     ]
    }
   ],
   "source": [
    "!pixi run pytest $bench_dir --benchmark-autosave"
   ]
  },
  {
   "cell_type": "markdown",
   "id": "a86ce3ad",
   "metadata": {},
   "source": [
    "A file will appear in the `.benchmarks` directory with the result of your benchmark. There are several options for plotting the benchmark results, we show here one with `seaborn` and `pandas`. Here is an example script:"
   ]
  },
  {
   "cell_type": "code",
   "execution_count": 7,
   "id": "cd49d636",
   "metadata": {},
   "outputs": [
    {
     "data": {
      "image/png": "[encoded data removed]",
      "text/plain": [
       "<Figure size 640x480 with 1 Axes>"
      ]
     },
     "metadata": {},
     "output_type": "display_data"
    }
   ],
   "source": [
    "import json\n",
    "\n",
    "from pathlib import Path\n",
    "\n",
    "import matplotlib.pyplot as plt\n",
    "import pandas as pd\n",
    "import seaborn as sns\n",
    "\n",
    "dfs = []\n",
    "\n",
    "for benchmark_file in Path(\".benchmarks\").rglob(\"*.json\"):\n",
    "    # Load the benchmark data\n",
    "    with open(benchmark_file, \"r\") as f:\n",
    "        data_i = json.load(f)\n",
    "\n",
    "    df_i = pd.DataFrame(data_i[\"benchmarks\"])\n",
    "\n",
    "    df_i[\"param\"] = df_i.param.astype(int)\n",
    "\n",
    "    df_i[\"name\"] = df_i[\"name\"].apply(lambda x: x.replace(\"test_\", \"\").split(\"[\")[0])\n",
    "\n",
    "    df_i = pd.concat(\n",
    "        [df_i.drop(\"stats\", axis=1), pd.json_normalize(df_i[\"stats\"])], axis=1\n",
    "    )\n",
    "\n",
    "    df_i[\"cpu_time\"] = df_i[\"mean\"]\n",
    "    df_i[\"cpu_stddev\"] = df_i[\"stddev\"]\n",
    "\n",
    "    df_i[\"run\"] = df_i[\"name\"] + f\"_{Path(benchmark_file).stem.split('_')[0]}\"\n",
    "\n",
    "    dfs.append(df_i)\n",
    "\n",
    "df = pd.concat(dfs, axis=0).reset_index(drop=True).query(\"run.str.contains('sample')\")\n",
    "\n",
    "sns.pointplot(\n",
    "    x=\"param\",\n",
    "    y=\"cpu_time\",\n",
    "    hue=\"run\",\n",
    "    palette=\"Blues\",\n",
    "    linestyles=None,\n",
    "    data=df,\n",
    "    markersize=3,\n",
    "    linewidth=1.25,\n",
    ")\n",
    "plt.ylabel(\"Time (s)\")\n",
    "plt.xlabel(\"Number of leaves\")\n",
    "plt.show()"
   ]
  },
  {
   "cell_type": "markdown",
   "id": "36c2b861",
   "metadata": {},
   "source": [
    "## Exercise 1: Adjacency matrix with phylo2vec\n",
    "\n",
    "The goal of this exercise is to create an adjacency matrix using phylo2vec. \n",
    "\n",
    "An adjacency matrix can be used to represent any graph (and thus, any tree). It is a square matrix $A$ such that each element $A_{ij}$ is 1 when there is an edge from a node $i$ to node $j$, and 0 when there is no edge.\n",
    "\n",
    "As a phylo2vec vector $v$ represents a **rooted** binary tree, it represents a directed graph. Thus, each edge goes from a parent to a child, but not vice versa.\n",
    "\n",
    "To check that your function works, write a test file called `test_adjacency.py` in the **src/tests** directory, and run pytest to check that you pass all tests!\n",
    "\n",
    "Example inputs and outputs:\n",
    "```python\n",
    "# Example 0\n",
    "v0 = np.array([0, 2])\n",
    "a0 = np.array(\n",
    "    [\n",
    "        [0, 0, 0, 1, 0],\n",
    "        [0, 0, 0, 1, 0],\n",
    "        [0, 0, 0, 0, 1],\n",
    "        [0, 0, 0, 0, 1],\n",
    "        [0, 0, 0, 0, 0],\n",
    "    ]\n",
    ")\n",
    "# Example 1\n",
    "v1 = np.array([0, 0, 0])\n",
    "a1 = np.array(\n",
    "    [\n",
    "        [0, 0, 0, 0, 1, 0, 0],\n",
    "        [0, 0, 0, 0, 0, 0, 1],\n",
    "        [0, 0, 0, 0, 0, 1, 0],\n",
    "        [0, 0, 0, 0, 1, 0, 0],\n",
    "        [0, 0, 0, 0, 0, 1, 0],\n",
    "        [0, 0, 0, 0, 0, 0, 1],\n",
    "        [0, 0, 0, 0, 0, 0, 0],\n",
    "    ]\n",
    ")\n",
    "# Example 2\n",
    "v2 = np.array([0, 1, 0])\n",
    "a2 = np.array(\n",
    "    [\n",
    "        [0, 0, 0, 0, 1, 0, 0],\n",
    "        [0, 0, 0, 0, 0, 1, 0],\n",
    "        [0, 0, 0, 0, 0, 1, 0],\n",
    "        [0, 0, 0, 0, 1, 0, 0],\n",
    "        [0, 0, 0, 0, 0, 0, 1],\n",
    "        [0, 0, 0, 0, 0, 0, 1],\n",
    "        [0, 0, 0, 0, 0, 0, 0],\n",
    "    ],\n",
    "    dtype=np.uint8,\n",
    ")\n",
    "# Example 3\n",
    "v3 = np.array([0, 1, 2, 3, 4])\n",
    "a3 = np.array(\n",
    "    [\n",
    "        [0, 0, 0, 0, 0, 0, 0, 0, 0, 0, 1],\n",
    "        [0, 0, 0, 0, 0, 0, 0, 0, 0, 1, 0],\n",
    "        [0, 0, 0, 0, 0, 0, 0, 0, 1, 0, 0],\n",
    "        [0, 0, 0, 0, 0, 0, 0, 1, 0, 0, 0],\n",
    "        [0, 0, 0, 0, 0, 0, 1, 0, 0, 0, 0],\n",
    "        [0, 0, 0, 0, 0, 0, 1, 0, 0, 0, 0],\n",
    "        [0, 0, 0, 0, 0, 0, 0, 1, 0, 0, 0],\n",
    "        [0, 0, 0, 0, 0, 0, 0, 0, 1, 0, 0],\n",
    "        [0, 0, 0, 0, 0, 0, 0, 0, 0, 1, 0],\n",
    "        [0, 0, 0, 0, 0, 0, 0, 0, 0, 0, 1],\n",
    "        [0, 0, 0, 0, 0, 0, 0, 0, 0, 0, 0],\n",
    "    ]\n",
    ")\n",
    "```"
   ]
  },
  {
   "cell_type": "code",
   "execution_count": null,
   "id": "517b0bc7",
   "metadata": {},
   "outputs": [],
   "source": [
    "#################################################\n",
    "############# YOUR CODE STARTS HERE #############\n",
    "#################################################\n",
    "\n",
    "def adjacency_matrix(v: np.ndarray) -> np.ndarray:\n",
    "    \"\"\"Create the adjacency matrix of the tree represented by a phylo2vec vector.\n",
    "\n",
    "    Parameters\n",
    "    ----------\n",
    "    v: np.ndarray\n",
    "        A phylo2vec vector.\n",
    "\n",
    "    Returns\n",
    "    -------\n",
    "    np.ndarray\n",
    "        The adjacency matrix of the tree represented by the vector.\n",
    "    \"\"\"\n",
    "    raise NotImplementedError\n",
    "\n",
    "#################################################\n",
    "############## YOUR CODE ENDS HERE ##############"
   ]
  },
  {
   "cell_type": "markdown",
   "id": "91bff3d2",
   "metadata": {},
   "source": [
    "## Exercise 2: Visualising trees with phylo2vec\n",
    "\n",
    "The goal of this exercise is to plot trees using phylo2vec. You are free to decide:\n",
    " * the language to use (Rust, R, Python, ...) \n",
    " * the output format (ASCII, image, interactive visualisation etc.)\n",
    " * the dependencies that you may need. \n",
    "\n",
    "Ideally, we would like to minimize dependencies, but plotting libraries might be necessary to render nice phylogenetic trees!\n",
    "\n",
    "To benchmark the speed of your function, write a test file called `test_viz.py` in the **src/benchmarks** directory, and use `pytest-benchmark` to time your function!"
   ]
  },
  {
   "cell_type": "code",
   "execution_count": 9,
   "id": "3dd8c33a",
   "metadata": {},
   "outputs": [],
   "source": [
    "#################################################\n",
    "############# YOUR CODE STARTS HERE #############\n",
    "#################################################\n",
    "\n",
    "\n",
    "def visualize_tree(v: np.ndarray):\n",
    "    \"\"\"Visualize the tree represented by a phylo2vec vector.\n",
    "\n",
    "    Parameters\n",
    "    ----------\n",
    "    v: np.ndarray\n",
    "        A phylo2vec vector.\n",
    "    \"\"\"\n",
    "    # You may also try to plot a tree with branch lengths using the phylo2vec matrix format\n",
    "    raise NotImplementedError\n",
    "\n",
    "\n",
    "#################################################\n",
    "############## YOUR CODE ENDS HERE ##############"
   ]
  }
 ],
 "metadata": {
  "kernelspec": {
   "display_name": "default",
   "language": "python",
   "name": "python3"
  },
  "language_info": {
   "codemirror_mode": {
    "name": "ipython",
    "version": 3
   },
   "file_extension": ".py",
   "mimetype": "text/x-python",
   "name": "python",
   "nbconvert_exporter": "python",
   "pygments_lexer": "ipython3",
   "version": "3.11.13"
  }
 },
 "nbformat": 4,
 "nbformat_minor": 5
}
